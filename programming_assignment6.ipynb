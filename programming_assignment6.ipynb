{
  "nbformat": 4,
  "nbformat_minor": 0,
  "metadata": {
    "colab": {
      "provenance": []
    },
    "kernelspec": {
      "name": "python3",
      "display_name": "Python 3"
    },
    "language_info": {
      "name": "python"
    }
  },
  "cells": [
    {
      "cell_type": "markdown",
      "source": [
        "1.\tWrite a Python Program to Display Fibonacci Sequence Using Recursion?"
      ],
      "metadata": {
        "id": "ZAU2R_clxOjH"
      }
    },
    {
      "cell_type": "code",
      "execution_count": 1,
      "metadata": {
        "colab": {
          "base_uri": "https://localhost:8080/"
        },
        "id": "YoutcAIcxHTp",
        "outputId": "59b607a8-7508-4540-e65a-64c730adff36"
      },
      "outputs": [
        {
          "output_type": "stream",
          "name": "stdout",
          "text": [
            "Fibonacci sequence:\n",
            "0\n",
            "1\n",
            "1\n",
            "2\n",
            "3\n",
            "5\n",
            "8\n",
            "13\n",
            "21\n",
            "34\n"
          ]
        }
      ],
      "source": [
        "def recur_fibo(n):\n",
        "   if n <= 1:\n",
        "       return n\n",
        "   else:\n",
        "       return(recur_fibo(n-1) + recur_fibo(n-2))\n",
        "nterms = 10\n",
        "if nterms <= 0:\n",
        "   print(\"Plese enter a positive integer\")\n",
        "else:\n",
        "   print(\"Fibonacci sequence:\")\n",
        "   for i in range(nterms):\n",
        "       print(recur_fibo(i))\n"
      ]
    },
    {
      "cell_type": "markdown",
      "source": [
        "2.\tWrite a Python Program to Find Factorial of Number Using Recursion?"
      ],
      "metadata": {
        "id": "GGFLapvvxtEG"
      }
    },
    {
      "cell_type": "code",
      "source": [
        "def recur_factorial(n):\n",
        "   if n == 1:\n",
        "       return n\n",
        "   else:\n",
        "       return n*recur_factorial(n-1)\n",
        "num = 7\n",
        "if num < 0:\n",
        "   print(\"Sorry, factorial does not exist for negative numbers\")\n",
        "elif num == 0:\n",
        "   print(\"The factorial of 0 is 1\")\n",
        "else:\n",
        "   print(\"The factorial of\", num, \"is\", recur_factorial(num))\n"
      ],
      "metadata": {
        "colab": {
          "base_uri": "https://localhost:8080/"
        },
        "id": "9cacOTeuxt-b",
        "outputId": "2b7a91d9-9fda-4a1e-e23e-79aa1427fab4"
      },
      "execution_count": 2,
      "outputs": [
        {
          "output_type": "stream",
          "name": "stdout",
          "text": [
            "The factorial of 7 is 5040\n"
          ]
        }
      ]
    },
    {
      "cell_type": "markdown",
      "source": [
        "3. Write a Python Program to calculate your Body Mass Index?"
      ],
      "metadata": {
        "id": "0PNO_gaKyj4L"
      }
    },
    {
      "cell_type": "code",
      "source": [
        "the_height = float(input(\"Enter the height in cm: \"))\n",
        "the_weight = float(input(\"Enter the weight in kg: \"))\n",
        "the_BMI = the_weight / (the_height/100)**2\n",
        "print(\"Your Body Mass Index is\", the_BMI)"
      ],
      "metadata": {
        "colab": {
          "base_uri": "https://localhost:8080/"
        },
        "id": "2bFk0tKoykTe",
        "outputId": "77ee4627-4647-427d-fcf7-1b421d60309f"
      },
      "execution_count": 3,
      "outputs": [
        {
          "output_type": "stream",
          "name": "stdout",
          "text": [
            "Enter the height in cm: 172\n",
            "Enter the weight in kg: 70\n",
            "Your Body Mass Index is 23.661438615467823\n"
          ]
        }
      ]
    },
    {
      "cell_type": "markdown",
      "source": [
        "4.\tWrite a Python Program to calculate the natural logarithm of any number?"
      ],
      "metadata": {
        "id": "BST4ym3zyvrq"
      }
    },
    {
      "cell_type": "code",
      "source": [
        "import math\n",
        "number = int(input(\"Enter the number: \"))\n",
        "ans = math.log(number)\n",
        "print(\"The value is:\",ans)"
      ],
      "metadata": {
        "colab": {
          "base_uri": "https://localhost:8080/"
        },
        "id": "N2Qybj_Jy2oI",
        "outputId": "e6de29bb-21cc-4587-911e-3b4c77034296"
      },
      "execution_count": 4,
      "outputs": [
        {
          "output_type": "stream",
          "name": "stdout",
          "text": [
            "Enter the number: 12\n",
            "The value is: 2.4849066497880004\n"
          ]
        }
      ]
    },
    {
      "cell_type": "markdown",
      "source": [
        "5.\tWrite a Python Program for cube sum of first n natural numbers?"
      ],
      "metadata": {
        "id": "GAzMKwXazI8t"
      }
    },
    {
      "cell_type": "code",
      "source": [
        "n=5\n",
        "s=0\n",
        "for i in range(1,n+1):\n",
        "\ts=s+pow(i,3)\n",
        "print(s)\t"
      ],
      "metadata": {
        "colab": {
          "base_uri": "https://localhost:8080/"
        },
        "id": "6Upb1fxVzLss",
        "outputId": "5647108a-7d49-4d45-d2ee-804d54fe0acd"
      },
      "execution_count": 5,
      "outputs": [
        {
          "output_type": "stream",
          "name": "stdout",
          "text": [
            "225\n"
          ]
        }
      ]
    }
  ]
}