{
  "nbformat": 4,
  "nbformat_minor": 0,
  "metadata": {
    "colab": {
      "provenance": []
    },
    "kernelspec": {
      "name": "python3",
      "display_name": "Python 3"
    },
    "language_info": {
      "name": "python"
    }
  },
  "cells": [
    {
      "cell_type": "markdown",
      "source": [],
      "metadata": {
        "id": "-w7qKQz9pek1"
      }
    },
    {
      "cell_type": "markdown",
      "source": [
        "Question1 :\n",
        "Create a function that takes three integer arguments (a, b, c) and returns the amount of integers which are of equal value.\n",
        "Examples\n",
        "equal(3, 4, 3) ➞ 2\n",
        "\n",
        "equal(1, 1, 1) ➞ 3\n",
        "\n",
        "equal(3, 4, 1) ➞ 0 \n",
        "Notes\n",
        "Your function must return 0, 2 or 3.\n"
      ],
      "metadata": {
        "id": "2akcL_Zrpilu"
      }
    },
    {
      "cell_type": "code",
      "source": [
        "a = int(input(\"Enter the number please : \"))\n",
        "b= int(input(\"Enter the number please : \"))\n",
        "c = int(input(\"Enter the number please : \"))\n",
        "xList = (a,b,c)\n",
        "aRepeat = xList.count(a)\n",
        "bRepeat = xList.count(b)\n",
        "cRepeat = xList.count(c)\n",
        "ans = max(aRepeat, bRepeat, cRepeat)\n",
        "if ans != 1 :\n",
        "  print(ans)\n",
        "else :\n",
        "  print(0)"
      ],
      "metadata": {
        "colab": {
          "base_uri": "https://localhost:8080/"
        },
        "id": "qxH1n0bcpl6a",
        "outputId": "f5178628-ce8a-45f2-d979-c23e42cc2b16"
      },
      "execution_count": null,
      "outputs": [
        {
          "output_type": "stream",
          "name": "stdout",
          "text": [
            "Enter the number please : 1\n",
            "Enter the number please : 2\n",
            "Enter the number please : 3\n",
            "0\n"
          ]
        }
      ]
    },
    {
      "cell_type": "markdown",
      "source": [
        "Question2 :\n",
        "Write a function that converts a dictionary into a list of keys-values tuples.\n",
        "Examples\n",
        "dict_to_list({\n",
        "  \"D\": 1,\n",
        "  \"B\": 2,\n",
        "  \"C\": 3\n",
        "}) ➞ [(\"B\", 2), (\"C\", 3), (\"D\", 1)]\n",
        "\n",
        "dict_to_list({\n",
        "  \"likes\": 2,\n",
        "  \"dislikes\": 3,\n",
        "  \"followers\": 10\n",
        "}) ➞ [(\"dislikes\", 3), (\"followers\", 10), (\"likes\", 2)]\n",
        "Notes\n",
        "Return the elements in the list in alphabetical order.\n"
      ],
      "metadata": {
        "id": "7L4KNEMJsZk-"
      }
    },
    {
      "cell_type": "code",
      "source": [
        "xDict = {\"D\":1, \"B\":2, \"C\":3}\n",
        "xList = []\n",
        "xDictList = list(xDict.keys())\n",
        "xDictList.sort()\n",
        "sortedDict = {i: xDict[i] for i in xDictList}\n",
        "for key,value in sortedDict.items() :\n",
        "  xTuple = (key, value)\n",
        "  xList.append(xTuple)\n",
        "print(xList)\n",
        " "
      ],
      "metadata": {
        "colab": {
          "base_uri": "https://localhost:8080/"
        },
        "id": "bafuX_28sbBu",
        "outputId": "9a7be5f6-0894-4405-d101-79a0cd9d2f25"
      },
      "execution_count": null,
      "outputs": [
        {
          "output_type": "stream",
          "name": "stdout",
          "text": [
            "[('B', 2), ('C', 3), ('D', 1)]\n"
          ]
        }
      ]
    },
    {
      "cell_type": "markdown",
      "source": [
        "Question3 :\n",
        "Write a function that creates a dictionary with each (key, value) pair being the (lower case, upper case) versions of a letter, respectively.\n",
        "Examples\n",
        "mapping([\"p\", \"s\"]) ➞ { \"p\": \"P\", \"s\": \"S\" }\n",
        "\n",
        "mapping([\"a\", \"b\", \"c\"]) ➞ { \"a\": \"A\", \"b\": \"B\", \"c\": \"C\" }\n",
        "\n",
        "mapping([\"a\", \"v\", \"y\", \"z\"]) ➞ { \"a\": \"A\", \"v\": \"V\", \"y\": \"Y\", \"z\": \"Z\" }\n",
        "Notes\n",
        "All of the letters in the input list will always be lowercase.\n"
      ],
      "metadata": {
        "id": "vF43tO5TxN0s"
      }
    },
    {
      "cell_type": "code",
      "source": [
        "xList = [\"a\", \"b\", \"c\"]\n",
        "xDict = {}\n",
        "for i in xList :\n",
        "  xDict[i] = i.upper()\n",
        "print(xDict)"
      ],
      "metadata": {
        "id": "HaOVOyxjxTBu",
        "colab": {
          "base_uri": "https://localhost:8080/"
        },
        "outputId": "4da3c7b7-cbfb-407c-ac0f-d15ead546fe5"
      },
      "execution_count": null,
      "outputs": [
        {
          "output_type": "stream",
          "name": "stdout",
          "text": [
            "{'a': 'A', 'b': 'B', 'c': 'C'}\n"
          ]
        }
      ]
    },
    {
      "cell_type": "markdown",
      "source": [
        "Question4 :\n",
        "Write a function, that replaces all vowels in a string with a specified vowel.\n",
        "Examples\n",
        "vow_replace(\"apples and bananas\", \"u\") ➞ \"upplus und bununus\"\n",
        "\n",
        "vow_replace(\"cheese casserole\", \"o\") ➞ \"choosocossorolo\"\n",
        "\n",
        "vow_replace(\"stuffed jalapeno poppers\", \"e\") ➞ \"steffedjelepene peppers\"\n",
        "Notes\n",
        "All words will be lowercase. Y is not considered a vowel.\n"
      ],
      "metadata": {
        "id": "qVhGALsAOLUr"
      }
    },
    {
      "cell_type": "code",
      "source": [
        "xInput = input(\"Please Enter value :\")\n",
        "xValue = input(\"Please Enter value to be replaced :\")\n",
        "y = \"\"\n",
        "for i in xInput:\n",
        "  if i=='a' or i=='e' or i=='i' or i=='o' or i=='u' :\n",
        "    y = y + xValue\n",
        "  else :\n",
        "    y = y + i\n",
        "print(y)"
      ],
      "metadata": {
        "colab": {
          "base_uri": "https://localhost:8080/"
        },
        "id": "VNnh-OJvOM0b",
        "outputId": "19d33aa4-e3b8-4ffb-c6aa-7380796dcd96"
      },
      "execution_count": null,
      "outputs": [
        {
          "output_type": "stream",
          "name": "stdout",
          "text": [
            "Please Enter value :apples and bananas\n",
            "Please Enter value to be replaced :u\n",
            "upplus und bununus\n"
          ]
        }
      ]
    },
    {
      "cell_type": "markdown",
      "source": [
        "Question5 :\n",
        "Create a function that takes a string as input and capitalizes a letter if its ASCII code is even and returns its lower case version if its ASCII code is odd.\n",
        "Examples\n",
        "ascii_capitalize(\"to be or not to be!\") ➞ \"To Be oRNoT To Be!\"\n",
        "\n",
        "ascii_capitalize(\"THE LITTLE MERMAID\") ➞ \"THeLiTTLemeRmaiD\"\n",
        "\n",
        "ascii_capitalize(\"Oh what a beautiful morning.\") ➞ \"oHwHaT a BeauTiFuLmoRNiNg.\"\n"
      ],
      "metadata": {
        "id": "TRgx8ySxVhGl"
      }
    },
    {
      "cell_type": "code",
      "source": [
        "inputValue = input(\"Enter the value please : \")\n",
        "ans = \"\"\n",
        "for i in inputValue :\n",
        "  if ord(i) % 2 == 0 :\n",
        "    ans = ans + i.upper()\n",
        "  else :\n",
        "    ans = ans + i.lower()\n",
        "print(ans)"
      ],
      "metadata": {
        "colab": {
          "base_uri": "https://localhost:8080/"
        },
        "id": "2a2pyuhVVsbE",
        "outputId": "ecd5de28-8e54-4a22-cd58-cd3cb094d02f"
      },
      "execution_count": 3,
      "outputs": [
        {
          "output_type": "stream",
          "name": "stdout",
          "text": [
            "Enter the value please : Oh what a beautiful morning.\n",
            "oH wHaT a BeauTiFuL moRNiNg.\n"
          ]
        }
      ]
    }
  ]
}