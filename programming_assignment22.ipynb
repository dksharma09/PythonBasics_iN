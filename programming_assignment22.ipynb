{
  "nbformat": 4,
  "nbformat_minor": 0,
  "metadata": {
    "colab": {
      "provenance": []
    },
    "kernelspec": {
      "name": "python3",
      "display_name": "Python 3"
    },
    "language_info": {
      "name": "python"
    }
  },
  "cells": [
    {
      "cell_type": "markdown",
      "source": [
        "Question1\n",
        "Create a function that takes three parameters where:\n",
        " x is the start of the range (inclusive).\n",
        " y is the end of the range (inclusive).\n",
        " n is the divisor to be checked against.\n",
        "Return an ordered list with numbers in the range that are divisible by the third parameter n.\n",
        "Return an empty list if there are no numbers that are divisible by n.\n",
        "Examples\n",
        "list_operation(1, 10, 3) ➞ [3, 6, 9]\n",
        "list_operation(7, 9, 2) ➞ [8]\n",
        "list_operation(15, 20, 7) ➞ []"
      ],
      "metadata": {
        "id": "VceEBopPHkUm"
      }
    },
    {
      "cell_type": "code",
      "execution_count": 1,
      "metadata": {
        "colab": {
          "base_uri": "https://localhost:8080/"
        },
        "id": "AL70PyqoHYPx",
        "outputId": "46de24f7-7c2d-4bc7-cb42-d3f10f374755"
      },
      "outputs": [
        {
          "output_type": "execute_result",
          "data": {
            "text/plain": [
              "[3, 6, 9]"
            ]
          },
          "metadata": {},
          "execution_count": 1
        }
      ],
      "source": [
        "def list_operation(x,y,n):\n",
        "    \n",
        "    divisor = []\n",
        "    nonDiv = []\n",
        "    for i in range(x,y+1):\n",
        "        if i % n == 0:\n",
        "            divisor.append(i)\n",
        "    return divisor        \n",
        "list_operation(1, 10, 3)"
      ]
    },
    {
      "cell_type": "markdown",
      "source": [
        "Question2\n",
        "Create a function that takes in two lists and returns True if the second list follows the first list\n",
        "by one element, and False otherwise. In other words, determine if the second list is the first\n",
        "list shifted to the right by 1.\n",
        "Examples\n",
        "simon_says([1, 2], [5, 1]) ➞ True\n",
        "simon_says([1, 2], [5, 5]) ➞ False\n",
        "simon_says([1, 2, 3, 4, 5], [0, 1, 2, 3, 4]) ➞ True\n",
        "simon_says([1, 2, 3, 4, 5], [5, 5, 1, 2, 3]) ➞ False\n",
        "Notes\n",
        " Both input lists will be of the same length, and will have a minimum length of 2.\n",
        " The values of the 0-indexed element in the second list and the n-1th indexed element\n",
        "in the first list do not matter."
      ],
      "metadata": {
        "id": "A0IL3Za_HyDZ"
      }
    },
    {
      "cell_type": "code",
      "source": [
        "def simon_says(ls,ls2):\n",
        "    if ls[0:len(ls)-1] == ls2[1:len(ls2)]:\n",
        "        return True\n",
        "    return False\n",
        "simon_says([1, 2], [5, 1])"
      ],
      "metadata": {
        "colab": {
          "base_uri": "https://localhost:8080/"
        },
        "id": "t95BZNH5HlHA",
        "outputId": "b90e64a0-380d-4791-b253-b302962bc8cc"
      },
      "execution_count": 2,
      "outputs": [
        {
          "output_type": "execute_result",
          "data": {
            "text/plain": [
              "True"
            ]
          },
          "metadata": {},
          "execution_count": 2
        }
      ]
    },
    {
      "cell_type": "markdown",
      "source": [
        "Question3\n",
        "A group of friends have decided to start a secret society. The name will be the first letter of\n",
        "each of their names, sorted in alphabetical order.\n",
        "Create a function that takes in a list of names and returns the name of the secret society.\n",
        "\n",
        "Examples\n",
        "society_name(['Adam', 'Sarah', 'Malcolm']) ➞ 'AMS'\n",
        "society_name(['Harry', 'Newt', 'Luna', 'Cho']) ➞ 'CHLN'\n",
        "society_name(['Phoebe', 'Chandler', 'Rachel', 'Ross', 'Monica', 'Joey'])"
      ],
      "metadata": {
        "id": "UxflJNk7H2-P"
      }
    },
    {
      "cell_type": "code",
      "source": [
        "def society_name(lst):\n",
        "    return ''.join([i[0] for i in sorted(lst)])\n",
        "society_name(['Adam', 'Sarah', 'Malcolm'])"
      ],
      "metadata": {
        "colab": {
          "base_uri": "https://localhost:8080/",
          "height": 35
        },
        "id": "KiqQal3CH2Rw",
        "outputId": "68d8c460-cc9b-4aa9-a7ee-c54d05a593eb"
      },
      "execution_count": 3,
      "outputs": [
        {
          "output_type": "execute_result",
          "data": {
            "text/plain": [
              "'AMS'"
            ],
            "application/vnd.google.colaboratory.intrinsic+json": {
              "type": "string"
            }
          },
          "metadata": {},
          "execution_count": 3
        }
      ]
    },
    {
      "cell_type": "markdown",
      "source": [
        "Question4\n",
        "An isogram is a word that has no duplicate letters. Create a function that takes a string and\n",
        "returns either True or False depending on whether or not it's an 'isogram'.\n",
        "Examples\n",
        "is_isogram('Algorism') ➞ True\n",
        "is_isogram('PasSword') ➞ False\n",
        "# Not case sensitive.\n",
        "is_isogram('Consecutive') ➞ False\n",
        "Notes\n",
        " Ignore letter case (should not be case sensitive).\n",
        " All test cases contain valid one word strings."
      ],
      "metadata": {
        "id": "FRDgKglfIDTr"
      }
    },
    {
      "cell_type": "code",
      "source": [
        "def is_isogram(s):\n",
        "    for i in range(len(s)):\n",
        "        if s.lower().count(s[i]) > 1:\n",
        "            return False\n",
        "    else:\n",
        "        return True\n",
        "is_isogram('Algorism')"
      ],
      "metadata": {
        "colab": {
          "base_uri": "https://localhost:8080/"
        },
        "id": "mBhYL6JoICHw",
        "outputId": "040345f0-6252-4d12-9cf5-a18ab2efd6dd"
      },
      "execution_count": 4,
      "outputs": [
        {
          "output_type": "execute_result",
          "data": {
            "text/plain": [
              "True"
            ]
          },
          "metadata": {},
          "execution_count": 4
        }
      ]
    },
    {
      "cell_type": "markdown",
      "source": [
        "Question5\n",
        "Create a function that takes a string and returns True or False, depending on whether the\n",
        "characters are in order or not.\n",
        "Examples\n",
        "is_in_order('abc') ➞ True\n",
        "is_in_order('edabit') ➞ False\n",
        "is_in_order('123') ➞ True\n",
        "is_in_order('xyzz') ➞ True\n",
        "Notes\n",
        "You don't have to handle empty strings."
      ],
      "metadata": {
        "id": "agZ28q01INhj"
      }
    },
    {
      "cell_type": "code",
      "source": [
        "def is_in_order(s):\n",
        "    n = len(s)\n",
        "    c = [s[i] for i in range(len(s))]\n",
        "    c.sort()\n",
        "    for i in range(n):\n",
        "        if c[i] != s[i]:\n",
        "            return False\n",
        "    return True\n",
        "is_in_order('abc')"
      ],
      "metadata": {
        "colab": {
          "base_uri": "https://localhost:8080/"
        },
        "id": "qtrKybG9IJuk",
        "outputId": "f87c37ee-da96-4989-80ab-fafbd3fe02b8"
      },
      "execution_count": 5,
      "outputs": [
        {
          "output_type": "execute_result",
          "data": {
            "text/plain": [
              "True"
            ]
          },
          "metadata": {},
          "execution_count": 5
        }
      ]
    },
    {
      "cell_type": "code",
      "source": [],
      "metadata": {
        "id": "xa7zLNNoITln"
      },
      "execution_count": null,
      "outputs": []
    }
  ]
}