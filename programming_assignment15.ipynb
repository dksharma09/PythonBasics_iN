{
  "nbformat": 4,
  "nbformat_minor": 0,
  "metadata": {
    "colab": {
      "provenance": []
    },
    "kernelspec": {
      "name": "python3",
      "display_name": "Python 3"
    },
    "language_info": {
      "name": "python"
    }
  },
  "cells": [
    {
      "cell_type": "markdown",
      "source": [
        "Question 1:\n",
        "Please write a program using generator to print the numbers which can be divisible by 5 and 7 between 0 and n in comma separated form while n is input by console.\n",
        "Example:\n",
        "If the following n is given as input to the program:\n",
        "100\n",
        "Then, the output of the program should be:\n",
        "0,35,70\n"
      ],
      "metadata": {
        "id": "mpHwru_eQuL9"
      }
    },
    {
      "cell_type": "code",
      "execution_count": 2,
      "metadata": {
        "colab": {
          "base_uri": "https://localhost:8080/"
        },
        "id": "HEJ3SCDXQoPO",
        "outputId": "016127ba-75fa-4b38-bb73-032d6fca0189"
      },
      "outputs": [
        {
          "output_type": "stream",
          "name": "stdout",
          "text": [
            "Enter the value : 100\n",
            "0,35,70\n"
          ]
        }
      ],
      "source": [
        "def NumGenerator(n):\n",
        "    for i in range(n+1):\n",
        "        if i%5==0 and i%7==0:\n",
        "            yield i\n",
        "\n",
        "n=int(input('Enter the value : '))\n",
        "values = []\n",
        "for i in NumGenerator(n):\n",
        "    values.append(str(i))\n",
        "\n",
        "print(\",\".join(values))"
      ]
    },
    {
      "cell_type": "markdown",
      "source": [
        "Question 2:\n",
        "Please write a program using generator to print the even numbers between 0 and n in comma separated form while n is input by console.\n",
        "Example:\n",
        "If the following n is given as input to the program:\n",
        "10\n",
        "Then, the output of the program should be:\n",
        "0,2,4,6,8,10\n"
      ],
      "metadata": {
        "id": "eR5jiMF9RQpm"
      }
    },
    {
      "cell_type": "code",
      "source": [
        "def EvenGenerator(n):\n",
        "    i=0\n",
        "    while i<=n:\n",
        "        if i%2==0:\n",
        "            yield i\n",
        "        i+=1\n",
        "\n",
        "\n",
        "n=int(input('Enter the number please : '))\n",
        "values = []\n",
        "for i in EvenGenerator(n):\n",
        "    values.append(str(i))\n",
        "\n",
        "print(\",\".join(values))"
      ],
      "metadata": {
        "colab": {
          "base_uri": "https://localhost:8080/"
        },
        "id": "d1tlXGT8RB9c",
        "outputId": "df7a6915-eb6c-47ab-d53d-50d05ed01a80"
      },
      "execution_count": 3,
      "outputs": [
        {
          "output_type": "stream",
          "name": "stdout",
          "text": [
            "Enter the number please : 10\n",
            "0,2,4,6,8,10\n"
          ]
        }
      ]
    },
    {
      "cell_type": "markdown",
      "source": [
        "Question 3:\n",
        "The Fibonacci Sequence is computed based on the following formula:\n",
        "f(n)=0 if n=0\n",
        "f(n)=1 if n=1\n",
        "f(n)=f(n-1)+f(n-2) if n>1\n",
        "Please write a program using list comprehension to print the Fibonacci Sequence in comma separated form with a given n input by console.\n",
        "Example:\n",
        "If the following n is given as input to the program:\n",
        "7\n",
        "\n",
        "Then, the output of the program should be:\n",
        "0,1,1,2,3,5,8,13\n"
      ],
      "metadata": {
        "id": "u2CJSvdNRn4p"
      }
    },
    {
      "cell_type": "code",
      "source": [
        "def f(n):\n",
        "    if n == 0: return 0\n",
        "    elif n == 1: return 1\n",
        "    else: return f(n-1)+f(n-2)\n",
        "\n",
        "n=int(input('Enter the number please : '))\n",
        "values = [str(f(x)) for x in range(0, n+1)]\n",
        "print(\",\".join(values))"
      ],
      "metadata": {
        "colab": {
          "base_uri": "https://localhost:8080/"
        },
        "id": "i8HQOsdtRlU9",
        "outputId": "1964b4cb-f3b1-47d0-e654-28522539ae24"
      },
      "execution_count": 5,
      "outputs": [
        {
          "output_type": "stream",
          "name": "stdout",
          "text": [
            "Enter the number please : 7\n",
            "0,1,1,2,3,5,8,13\n"
          ]
        }
      ]
    },
    {
      "cell_type": "markdown",
      "source": [
        "Question 4:\n",
        "Assuming that we have some email addresses in the \"username@companyname.com\" format, please write program to print the user name of a given email address. Both user names and company names are composed of letters only.\n",
        "Example:\n",
        "If the following email address is given as input to the program:\n",
        "john@google.com\n",
        "Then, the output of the program should be:\n",
        "john\n"
      ],
      "metadata": {
        "id": "iMQd4Y-_SKdn"
      }
    },
    {
      "cell_type": "code",
      "source": [
        "emailAddress = input('Enter the email address please : ')\n",
        "emailAddress = emailAddress.split('@')\n",
        "print(emailAddress[0])"
      ],
      "metadata": {
        "colab": {
          "base_uri": "https://localhost:8080/"
        },
        "id": "ZMNNO1N2R4WD",
        "outputId": "fd18b5b4-977f-4c23-8652-6f22266e3faa"
      },
      "execution_count": 8,
      "outputs": [
        {
          "output_type": "stream",
          "name": "stdout",
          "text": [
            "Enter the email address please :  john@google.com\n",
            " john\n"
          ]
        }
      ]
    },
    {
      "cell_type": "markdown",
      "source": [
        "Question 5:\n",
        "Define a class named Shape and its subclass Square. The Square class has an init function which takes a length as argument. Both classes have a area function which can print the area of the shape where Shape's area is 0 by default.\n",
        "\n"
      ],
      "metadata": {
        "id": "7Nv4yWyHSy-N"
      }
    },
    {
      "cell_type": "code",
      "source": [
        "class Shape(object):\n",
        "    def __init__(self):\n",
        "        pass\n",
        "\n",
        "    def area(self):\n",
        "        return 0\n",
        "\n",
        "class Square(Shape):\n",
        "    def __init__(self, l):\n",
        "        Shape.__init__(self)\n",
        "        self.length = l\n",
        "\n",
        "    def area(self):\n",
        "        return self.length*self.length\n",
        "\n",
        "aSquare= Square(3)\n",
        "print(aSquare.area())"
      ],
      "metadata": {
        "colab": {
          "base_uri": "https://localhost:8080/"
        },
        "id": "ABPlBzMjSXlv",
        "outputId": "0d7ac610-e673-4efd-f98d-47fa8a6601b7"
      },
      "execution_count": 9,
      "outputs": [
        {
          "output_type": "stream",
          "name": "stdout",
          "text": [
            "9\n"
          ]
        }
      ]
    },
    {
      "cell_type": "code",
      "source": [],
      "metadata": {
        "id": "9V9jLSawTC0J"
      },
      "execution_count": null,
      "outputs": []
    }
  ]
}