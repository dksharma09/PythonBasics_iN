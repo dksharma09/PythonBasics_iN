{
  "nbformat": 4,
  "nbformat_minor": 0,
  "metadata": {
    "colab": {
      "provenance": []
    },
    "kernelspec": {
      "name": "python3",
      "display_name": "Python 3"
    },
    "language_info": {
      "name": "python"
    }
  },
  "cells": [
    {
      "cell_type": "markdown",
      "source": [
        "\n",
        "1.\tWrite a Python Program to Add Two Matrices?"
      ],
      "metadata": {
        "id": "_CkNmPe53tbN"
      }
    },
    {
      "cell_type": "code",
      "execution_count": null,
      "metadata": {
        "colab": {
          "base_uri": "https://localhost:8080/"
        },
        "id": "97_ZTd6u3n3Z",
        "outputId": "a5459c76-0dfd-443b-e2db-3417223e9d5f"
      },
      "outputs": [
        {
          "output_type": "stream",
          "name": "stdout",
          "text": [
            "[[2 4 6 8]\n",
            " [2 4 6 8]]\n"
          ]
        }
      ],
      "source": [
        "import numpy as np\n",
        "arr1 = [[1,2,3,4], [1,2,3,4]]\n",
        "arr2 = [[1,2,3,4], [1,2,3,4]]\n",
        "arr = np.add(arr1, arr2)\n",
        "print(arr)"
      ]
    },
    {
      "cell_type": "markdown",
      "source": [
        "2.\tWrite a Python Program to Multiply Two Matrices?"
      ],
      "metadata": {
        "id": "I6-Zy8sN4crW"
      }
    },
    {
      "cell_type": "code",
      "source": [
        "import numpy as np\n",
        "arr1 = [[1,2], [1,2]]\n",
        "arr2 = [[3,4], [3,4]]\n",
        "arr = np.matmul(arr1, arr2)\n",
        "print(arr)"
      ],
      "metadata": {
        "colab": {
          "base_uri": "https://localhost:8080/"
        },
        "id": "Zs-xFgW-4XPk",
        "outputId": "21cb876a-cd0c-438c-857a-8817097d5de2"
      },
      "execution_count": null,
      "outputs": [
        {
          "output_type": "stream",
          "name": "stdout",
          "text": [
            "[[ 9 12]\n",
            " [ 9 12]]\n"
          ]
        }
      ]
    },
    {
      "cell_type": "markdown",
      "source": [
        "3.\tWrite a Python Program to Transpose a Matrix?"
      ],
      "metadata": {
        "id": "wJo0G40es4lq"
      }
    },
    {
      "cell_type": "code",
      "source": [
        "X = [[12,7],\n",
        "    [4 ,5],\n",
        "    [3 ,8]]\n",
        "result = [[0,0,0],\n",
        "         [0,0,0]]\n",
        "for i in range(len(X)):\n",
        "  for j in range(len(X[0])):\n",
        "    result[j][i] = X[i][j]\n",
        "for r in result:\n",
        "   print(r)"
      ],
      "metadata": {
        "id": "dtRisVuW4Ajj",
        "colab": {
          "base_uri": "https://localhost:8080/"
        },
        "outputId": "514eba57-abe7-44b5-9a41-86d03e86c064"
      },
      "execution_count": 1,
      "outputs": [
        {
          "output_type": "stream",
          "name": "stdout",
          "text": [
            "[12, 4, 3]\n",
            "[7, 5, 8]\n"
          ]
        }
      ]
    },
    {
      "cell_type": "markdown",
      "source": [
        "4.\tWrite a Python Program to Sort Words in Alphabetic Order?"
      ],
      "metadata": {
        "id": "XLytJ5aQt-Tr"
      }
    },
    {
      "cell_type": "code",
      "source": [
        "my_str = \"My name is Dushyant Sharma\"\n",
        "words = [word.lower() for word in my_str.split()]\n",
        "words.sort()\n",
        "print(\"The sorted words are:\")\n",
        "for word in words:\n",
        "   print(word)"
      ],
      "metadata": {
        "colab": {
          "base_uri": "https://localhost:8080/"
        },
        "id": "KoEF3QyvtbVm",
        "outputId": "6c488719-fdbb-4d02-fd1b-6fa0a5483e82"
      },
      "execution_count": 2,
      "outputs": [
        {
          "output_type": "stream",
          "name": "stdout",
          "text": [
            "The sorted words are:\n",
            "dushyant\n",
            "is\n",
            "my\n",
            "name\n",
            "sharma\n"
          ]
        }
      ]
    },
    {
      "cell_type": "markdown",
      "source": [
        "5.\tWrite a Python Program to Remove Punctuation From a String?"
      ],
      "metadata": {
        "id": "hfx6WHjOvDv-"
      }
    },
    {
      "cell_type": "code",
      "source": [
        "punctuations = '''!()-[]{};:'\"\\,<>./?@#$%^&*_~'''\n",
        "my_str = \"Hello!!!, he said ---and went.\"\n",
        "no_punct = \"\"\n",
        "for char in my_str:\n",
        "   if char not in punctuations:\n",
        "       no_punct = no_punct + char\n",
        "print(no_punct)"
      ],
      "metadata": {
        "colab": {
          "base_uri": "https://localhost:8080/"
        },
        "id": "cw3mKfK7u39q",
        "outputId": "d84f6512-d1f8-4f36-9c5f-5abcafa39cd3"
      },
      "execution_count": 3,
      "outputs": [
        {
          "output_type": "stream",
          "name": "stdout",
          "text": [
            "Hello he said and went\n"
          ]
        }
      ]
    },
    {
      "cell_type": "code",
      "source": [],
      "metadata": {
        "id": "ghgJ4C2XvUPz"
      },
      "execution_count": null,
      "outputs": []
    }
  ]
}