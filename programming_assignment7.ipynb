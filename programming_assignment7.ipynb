{
  "nbformat": 4,
  "nbformat_minor": 0,
  "metadata": {
    "colab": {
      "provenance": []
    },
    "kernelspec": {
      "name": "python3",
      "display_name": "Python 3"
    },
    "language_info": {
      "name": "python"
    }
  },
  "cells": [
    {
      "cell_type": "markdown",
      "source": [
        "1.\tWrite a Python Program to find sum of array?"
      ],
      "metadata": {
        "id": "hP1yhNPHV1mL"
      }
    },
    {
      "cell_type": "code",
      "source": [
        "arr = [1,4,5,7,8,9,12]\n",
        "sum = 0\n",
        "for i in arr :\n",
        "  sum = sum + i\n",
        "print(sum)"
      ],
      "metadata": {
        "colab": {
          "base_uri": "https://localhost:8080/"
        },
        "id": "-IdActQdV5XW",
        "outputId": "bca0371e-7e7d-473b-87f4-9c01775cfa79"
      },
      "execution_count": 3,
      "outputs": [
        {
          "output_type": "stream",
          "name": "stdout",
          "text": [
            "46\n"
          ]
        }
      ]
    },
    {
      "cell_type": "markdown",
      "source": [
        "2.\tWrite a Python Program to find largest element in an array?"
      ],
      "metadata": {
        "id": "4UPY3mb0WRK3"
      }
    },
    {
      "cell_type": "code",
      "source": [
        "arr = [1,4,5,7,8,9,12]\n",
        "print(max(arr))"
      ],
      "metadata": {
        "colab": {
          "base_uri": "https://localhost:8080/"
        },
        "id": "L9g_URu9WENz",
        "outputId": "c49dde5f-dd44-4ee1-8673-927ccbb933ab"
      },
      "execution_count": 5,
      "outputs": [
        {
          "output_type": "stream",
          "name": "stdout",
          "text": [
            "12\n"
          ]
        }
      ]
    },
    {
      "cell_type": "markdown",
      "source": [
        "3.\tWrite a Python Program for array rotation?"
      ],
      "metadata": {
        "id": "jYSQ2t1iWxyj"
      }
    },
    {
      "cell_type": "code",
      "source": [
        "def rotateArray(a,d):\n",
        "    n=len(a)\n",
        "    a[:]=a[d:n]+a[0:d]\n",
        "    return a\n",
        "\n",
        "arr = [1, 2, 3, 4, 5, 6]\n",
        "\n",
        "print(\"Rotated list is\")\n",
        "print(rotateArray(arr,2)) "
      ],
      "metadata": {
        "colab": {
          "base_uri": "https://localhost:8080/"
        },
        "id": "TtBKLUlUWpHH",
        "outputId": "01a3b3d7-2041-44d1-cb6a-d81abb6221ad"
      },
      "execution_count": 26,
      "outputs": [
        {
          "output_type": "stream",
          "name": "stdout",
          "text": [
            "Rotated list is\n",
            "[3, 4, 5, 6, 1, 2]\n"
          ]
        }
      ]
    },
    {
      "cell_type": "markdown",
      "source": [
        "4.\tWrite a Python Program to Split the array and add the first part to the end?"
      ],
      "metadata": {
        "id": "GTQADor7XMPb"
      }
    },
    {
      "cell_type": "code",
      "source": [
        "arr = [1,2,3,45,5,76,77,6]\n",
        "n = 3\n",
        "for i in range(n) :\n",
        "  arr.append(arr[0])\n",
        "  arr.pop(0)\n",
        "print(arr)"
      ],
      "metadata": {
        "colab": {
          "base_uri": "https://localhost:8080/"
        },
        "id": "rxIH7xHNXNSD",
        "outputId": "713005c2-4aab-49cf-db7e-23d422b8bc8a"
      },
      "execution_count": 6,
      "outputs": [
        {
          "output_type": "stream",
          "name": "stdout",
          "text": [
            "[45, 5, 76, 77, 6, 1, 2, 3]\n"
          ]
        }
      ]
    },
    {
      "cell_type": "markdown",
      "source": [
        "5.\tWrite a Python Program to check if given array is Monotonic?"
      ],
      "metadata": {
        "id": "ZS6qpCrwY1PV"
      }
    },
    {
      "cell_type": "code",
      "source": [
        "import numpy as np\n",
        "arr = [1,2,3,45,54,76,771,6141]\n",
        "arr1 = np.copy(arr)\n",
        "arr1.sort()\n",
        "j=0\n",
        "for i in range(len(arr)) :\n",
        "  if arr[i] != arr1[i] :\n",
        "    j=0\n",
        "    print(False)\n",
        "    break\n",
        "  else :\n",
        "    j = j+1\n",
        "if j > 0 :\n",
        "  print(True)"
      ],
      "metadata": {
        "colab": {
          "base_uri": "https://localhost:8080/"
        },
        "id": "qiM5vSJwYpGv",
        "outputId": "60837d9c-3627-4f7e-ff08-c39313f4aae0"
      },
      "execution_count": 25,
      "outputs": [
        {
          "output_type": "stream",
          "name": "stdout",
          "text": [
            "True\n"
          ]
        }
      ]
    },
    {
      "cell_type": "code",
      "source": [],
      "metadata": {
        "id": "09YS5GKKbRsi"
      },
      "execution_count": null,
      "outputs": []
    }
  ]
}