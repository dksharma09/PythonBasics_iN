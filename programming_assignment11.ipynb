{
  "nbformat": 4,
  "nbformat_minor": 0,
  "metadata": {
    "colab": {
      "provenance": []
    },
    "kernelspec": {
      "name": "python3",
      "display_name": "Python 3"
    },
    "language_info": {
      "name": "python"
    }
  },
  "cells": [
    {
      "cell_type": "markdown",
      "source": [
        "1.\tWrite a Python program to find words which are greater than given length k?"
      ],
      "metadata": {
        "id": "lWddR4EU_sLs"
      }
    },
    {
      "cell_type": "code",
      "execution_count": 1,
      "metadata": {
        "colab": {
          "base_uri": "https://localhost:8080/"
        },
        "id": "UqrPen7U_eM-",
        "outputId": "5245bbba-754a-4db7-c638-b4bd4287ea22"
      },
      "outputs": [
        {
          "output_type": "stream",
          "name": "stdout",
          "text": [
            "Dushyant\n",
            "Sharma\n"
          ]
        }
      ],
      "source": [
        "def lengthchecker(k, arr) :\n",
        "  for i in arr :\n",
        "    if len(i) > k :\n",
        "      print(i)\n",
        "lengthchecker(5,['Dushyant', 'Sharma', 'Abhi'])"
      ]
    },
    {
      "cell_type": "markdown",
      "source": [
        "2.\tWrite a Python program for removing i-th character from a string?"
      ],
      "metadata": {
        "id": "PIfQBoKFAUKR"
      }
    },
    {
      "cell_type": "code",
      "source": [
        "def removechar(i, value) :\n",
        "  a = \"\"\n",
        "  for j in range(len(value)) :\n",
        "    if j != i :\n",
        "      a += value[j]\n",
        "  print(a)\n",
        "removechar(2,'Dushyant')"
      ],
      "metadata": {
        "colab": {
          "base_uri": "https://localhost:8080/"
        },
        "id": "v8ybDRR0AKHy",
        "outputId": "5d423974-3e5c-41c9-a4c1-fad81ace8337"
      },
      "execution_count": 5,
      "outputs": [
        {
          "output_type": "stream",
          "name": "stdout",
          "text": [
            "Duhyant\n"
          ]
        }
      ]
    },
    {
      "cell_type": "markdown",
      "source": [
        "3.\tWrite a Python program to split and join a string?"
      ],
      "metadata": {
        "id": "HRbANmOiBiTX"
      }
    },
    {
      "cell_type": "code",
      "source": [
        "def splitstring(splitbychar, value) :\n",
        "  result = value.split(splitbychar)\n",
        "  print(result)\n",
        "def joinstring(joinby, value) :\n",
        "  value = joinby.join(value)\n",
        "  print(value)\n",
        "splitstring('s', 'Dushyant')\n",
        "joinstring('#', ['Dushyant', 'Sharma'])"
      ],
      "metadata": {
        "colab": {
          "base_uri": "https://localhost:8080/"
        },
        "id": "rbk21gN8BD5K",
        "outputId": "928eb308-43bd-41b3-c8b6-3a96d078671c"
      },
      "execution_count": 9,
      "outputs": [
        {
          "output_type": "stream",
          "name": "stdout",
          "text": [
            "['Du', 'hyant']\n",
            "Dushyant#Sharma\n"
          ]
        }
      ]
    },
    {
      "cell_type": "markdown",
      "source": [
        "4.\tWrite a Python to check if a given string is binary string or not?"
      ],
      "metadata": {
        "id": "lMT9gqIZDVNK"
      }
    },
    {
      "cell_type": "code",
      "source": [
        "def binarychecker(value) :\n",
        "  s = set(value)\n",
        "  p = {'0', '1'}\n",
        "  if s==p :\n",
        "    return True\n",
        "  return False\n",
        "print(binarychecker('Dushyant'))\n",
        "print(binarychecker('10101010111'))"
      ],
      "metadata": {
        "colab": {
          "base_uri": "https://localhost:8080/"
        },
        "id": "R9itfg2yC-G1",
        "outputId": "8248bc1b-9f11-4ddb-a197-147d4866bf0d"
      },
      "execution_count": 14,
      "outputs": [
        {
          "output_type": "stream",
          "name": "stdout",
          "text": [
            "False\n",
            "True\n"
          ]
        }
      ]
    },
    {
      "cell_type": "markdown",
      "source": [
        "5.\tWrite a Python program to find uncommon words from two Strings?"
      ],
      "metadata": {
        "id": "SLJTo4PSFSgI"
      }
    },
    {
      "cell_type": "code",
      "source": [
        "def UncommonWords(A, B):\n",
        "  count = {}\n",
        "  for word in A.split():\n",
        "      count[word] = count.get(word, 0) + 1\n",
        "  for word in B.split():\n",
        "      count[word] = count.get(word, 0) + 1\n",
        "  return [word for word in count if count[word] == 1]\n",
        "A = \"My name is Dushyant\"\n",
        "B = \"My name is Sharma\"\n",
        "print(UncommonWords(A, B))"
      ],
      "metadata": {
        "colab": {
          "base_uri": "https://localhost:8080/"
        },
        "id": "hGkwdUtdE6xz",
        "outputId": "5de3916e-6502-431d-e469-6af5a91f3795"
      },
      "execution_count": 15,
      "outputs": [
        {
          "output_type": "stream",
          "name": "stdout",
          "text": [
            "['Dushyant', 'Sharma']\n"
          ]
        }
      ]
    },
    {
      "cell_type": "markdown",
      "source": [
        "6.\tWrite a Python to find all duplicate characters in string?"
      ],
      "metadata": {
        "id": "fsSoJCWOGJeq"
      }
    },
    {
      "cell_type": "code",
      "source": [
        "def duplicate_characters(string):\n",
        "\tchars = {}\n",
        "\tfor char in string:\n",
        "\t\tif char not in chars:\n",
        "\t\t\tchars[char] = 1\n",
        "\t\telse:\n",
        "\t\t\tchars[char] += 1\n",
        "\tduplicates = []\n",
        "\tfor char, count in chars.items():\n",
        "\t\tif count > 1:\n",
        "\t\t\tduplicates.append(char)\n",
        "\n",
        "\treturn duplicates\n",
        "print(duplicate_characters(\"Datascientist\"))\n"
      ],
      "metadata": {
        "colab": {
          "base_uri": "https://localhost:8080/"
        },
        "id": "RObiFTqAGHQP",
        "outputId": "c3c85766-4e0a-46dd-f9d3-9500108d2d49"
      },
      "execution_count": 18,
      "outputs": [
        {
          "output_type": "stream",
          "name": "stdout",
          "text": [
            "['a', 't', 's', 'i']\n"
          ]
        }
      ]
    },
    {
      "cell_type": "markdown",
      "source": [
        "7.\tWrite a Python Program to check if a string contains any special character?"
      ],
      "metadata": {
        "id": "dC3UcdVbG3Gm"
      }
    },
    {
      "cell_type": "markdown",
      "source": [],
      "metadata": {
        "id": "H91JYENFGvaE"
      }
    },
    {
      "cell_type": "code",
      "source": [
        "n = \"i#Neuron.ai@\"\n",
        "n.split()\n",
        "c = 0\n",
        "s = '[@_!#$%^&*()<>?/\\|}{~:]'\n",
        "for i in range(len(n)):\n",
        "\tif n[i] in s:\n",
        "\t\tc += 1\n",
        "if c:\n",
        "\tprint(\"string is not accepted\")\n",
        "else:\n",
        "\tprint(\"string accepted\")"
      ],
      "metadata": {
        "colab": {
          "base_uri": "https://localhost:8080/"
        },
        "id": "O9hh4dOFGj2u",
        "outputId": "9e002716-6326-417b-d72e-8d6119f7cff2"
      },
      "execution_count": 20,
      "outputs": [
        {
          "output_type": "stream",
          "name": "stdout",
          "text": [
            "string is not accepted\n"
          ]
        }
      ]
    },
    {
      "cell_type": "code",
      "source": [],
      "metadata": {
        "id": "qKVkDBXVHXJP"
      },
      "execution_count": null,
      "outputs": []
    }
  ]
}