{
  "nbformat": 4,
  "nbformat_minor": 0,
  "metadata": {
    "colab": {
      "provenance": []
    },
    "kernelspec": {
      "name": "python3",
      "display_name": "Python 3"
    },
    "language_info": {
      "name": "python"
    }
  },
  "cells": [
    {
      "cell_type": "code",
      "execution_count": null,
      "metadata": {
        "id": "0VcfTqCUfuTP"
      },
      "outputs": [],
      "source": [
        "Question1 :\n",
        "Create a function that takes an integer and returns a list from 1 to the given number, where:\n",
        "1. If the number can be divided evenly by 4, amplify it by 10 (i.e. return 10 times the\n",
        "number).\n",
        "2. If the number cannot be divided evenly by 4, simply return the number.\n",
        "Examples\n",
        "amplify(4) ➞ [1, 2, 3, 40]\n",
        "amplify(3) ➞ [1, 2, 3]\n",
        "amplify(25) ➞ [1, 2, 3, 40, 5, 6, 7, 80, 9, 10, 11, 120, 13, 14, 15, 160,\n",
        "17, 18, 19, 200, 21, 22, 23, 240, 25]\n",
        "Notes\n",
        " The given integer will always be equal to or greater than 1.\n",
        " Include the number (see example above).\n",
        " To perform this problem with its intended purpose, try doing it with list\n",
        "comprehensions. If that&#39;s too difficult, just solve the challenge any way you can."
      ]
    },
    {
      "cell_type": "code",
      "source": [
        "amplify = int(input(\"Enter the number, Please : \"))\n",
        "output = []\n",
        "for i in range(1, amplify+1) :\n",
        "  if i%4 == 0 :\n",
        "    output.append(i*10)\n",
        "  else :\n",
        "    output.append(i)\n",
        "print(output)"
      ],
      "metadata": {
        "colab": {
          "base_uri": "https://localhost:8080/"
        },
        "id": "ogcDJV38f_E_",
        "outputId": "0e3dea25-aa7b-4274-e364-07a412047e32"
      },
      "execution_count": null,
      "outputs": [
        {
          "output_type": "stream",
          "name": "stdout",
          "text": [
            "Enter the number, Please : 9\n",
            "[1, 2, 3, 40, 5, 6, 7, 80, 9]\n"
          ]
        }
      ]
    },
    {
      "cell_type": "markdown",
      "source": [
        "Question2 :\n",
        "Create a function that takes a list of numbers and return the number that&#39;s unique.\n",
        "Examples\n",
        "unique([3, 3, 3, 7, 3, 3]) ➞ 7\n",
        "unique([0, 0, 0.77, 0, 0]) ➞ 0.77\n",
        "unique([0, 1, 1, 1, 1, 1, 1, 1]) ➞ 0\n",
        "Notes\n",
        "Test cases will always have exactly one unique number while all others are the same."
      ],
      "metadata": {
        "id": "LwTLJh07hJ1q"
      }
    },
    {
      "cell_type": "code",
      "source": [
        "inputValue = str(input())\n",
        "listItems = inputValue.split(\",\")\n",
        "x = []\n",
        "for i in listItems :\n",
        "  x.append(int(i))\n",
        "for i in x :\n",
        "  if x.count(i) == 1 :\n",
        "    print(f\"The odd number is {i}\")"
      ],
      "metadata": {
        "colab": {
          "base_uri": "https://localhost:8080/"
        },
        "id": "DwGrPiNtjr6z",
        "outputId": "6d44af14-f1b7-41e2-f7e0-731e231b948b"
      },
      "execution_count": null,
      "outputs": [
        {
          "output_type": "stream",
          "name": "stdout",
          "text": [
            "1,2,2,2,2\n",
            "The odd number is 1\n"
          ]
        }
      ]
    },
    {
      "cell_type": "markdown",
      "source": [
        "Question3 :\n",
        "Your task is to create a Circle constructor that creates a circle with a radius provided by an argument. The circles constructed must have two getters getArea() (PIr^2) and getPerimeter() (2PI*r) which give both respective areas and perimeter (circumference).\n",
        "For help with this class, I have provided you with a Rectangle constructor which you can use as a base example.\n",
        "Examples\n",
        "circy = Circle(11)\n",
        "circy.getArea()\n",
        "\n",
        "# Should return 380.132711084365\n",
        "\n",
        "circy = Circle(4.44)\n",
        "circy.getPerimeter()\n",
        "\n",
        "# Should return 27.897342763877365\n",
        "Notes\n",
        "Round results up to the nearest integer.\n"
      ],
      "metadata": {
        "id": "S7M8r9-riBK1"
      }
    },
    {
      "cell_type": "code",
      "source": [
        "import math\n",
        "radius = float(input(\"Enter the radius, Please : \"))\n",
        "getArea()\n",
        "getPerimeter()\n",
        "def getArea() :\n",
        "  print(round(math.pi*radius*radius))\n",
        "def getPerimeter() :\n",
        "  print(round(2*math.pi*radius)) "
      ],
      "metadata": {
        "colab": {
          "base_uri": "https://localhost:8080/"
        },
        "id": "RHU-Bs-7i8T0",
        "outputId": "45be1357-f91d-4f28-eab8-aafd98ced37f"
      },
      "execution_count": null,
      "outputs": [
        {
          "output_type": "stream",
          "name": "stdout",
          "text": [
            "Enter the radius, Please : 4\n",
            "50\n",
            "25\n"
          ]
        }
      ]
    },
    {
      "cell_type": "markdown",
      "source": [
        "Question4 :\n",
        "Create a function that takes a list of strings and return a list, sorted from shortest to longest.\n",
        "Examples\n",
        "sort_by_length([\"Google\", \"Apple\", \"Microsoft\"])\n",
        "➞ [\"Apple\", \"Google\", \"Microsoft\"]\n",
        "\n",
        "sort_by_length([\"Leonardo\", \"Michelangelo\", \"Raphael\", \"Donatello\"])\n",
        "➞ [\"Raphael\", \"Leonardo\", \"Donatello\", \"Michelangelo\"]\n",
        "\n",
        "sort_by_length([\"Turing\", \"Einstein\", \"Jung\"])\n",
        "➞ [\"Jung\", \"Turing\", \"Einstein\"]\n",
        "Notes\n",
        "All test cases contain lists with strings of different lengths, so you won't have to deal with multiple strings of the same length."
      ],
      "metadata": {
        "id": "20AojtSFnJ1h"
      }
    },
    {
      "cell_type": "code",
      "source": [
        "def sort_by_length(lst):\n",
        "    return sorted(lst, key = len)\n",
        "sort_by_length(['Apple', 'Oats', 'Elephant', 'Ox'])"
      ],
      "metadata": {
        "colab": {
          "base_uri": "https://localhost:8080/"
        },
        "id": "msM3QWLwnPtp",
        "outputId": "4b8d79db-198c-414c-9424-d7730678aeba"
      },
      "execution_count": 4,
      "outputs": [
        {
          "output_type": "execute_result",
          "data": {
            "text/plain": [
              "['Ox', 'Oats', 'Apple', 'Elephant']"
            ]
          },
          "metadata": {},
          "execution_count": 4
        }
      ]
    },
    {
      "cell_type": "markdown",
      "source": [
        "Question5\n",
        "Create a function that validates whether three given integers form a Pythagorean triplet. The sum of the squares of the two smallest integers must equal the square of the largest number to be validated.\n",
        "\n",
        "\n",
        "Examples\n",
        "is_triplet(3, 4, 5) ➞ True\n",
        "# 3² + 4² = 25\n",
        "# 5² = 25\n",
        "\n",
        "is_triplet(13, 5, 12) ➞ True\n",
        "# 5² + 12² = 169\n",
        "# 13² = 169\n",
        "\n",
        "is_triplet(1, 2, 3) ➞ False\n",
        "# 1² + 2² = 5\n",
        "# 3² = 9\n",
        "Notes\n",
        "Numbers may not be given in a sorted order.\n"
      ],
      "metadata": {
        "id": "wLqEX9CsyJQT"
      }
    },
    {
      "cell_type": "code",
      "source": [
        "inputNumbers = input(\"Enter 3 no's, Please\")\n",
        "listNumbers = inputNumbers.split(',')\n",
        "listNumbers.sort()\n",
        "num1 = int(listNumbers[0])\n",
        "num2 = int(listNumbers[1])\n",
        "num3 = int(listNumbers[2])\n",
        "if num1*num1 + num2*num2 == num3*num3 :\n",
        "  print(\"Three given integers form a Pythagorean triplet\")\n",
        "else :\n",
        "  print(\"Three given integers do not form a Pythagorean triplet\")"
      ],
      "metadata": {
        "colab": {
          "base_uri": "https://localhost:8080/"
        },
        "id": "mdi09-ldyKhb",
        "outputId": "867490be-3176-4551-95f1-47c7c0def351"
      },
      "execution_count": 3,
      "outputs": [
        {
          "output_type": "stream",
          "name": "stdout",
          "text": [
            "Enter 3 no's, Please3,6,4\n",
            "Three given integers do not form a Pythagorean triplet\n"
          ]
        }
      ]
    }
  ]
}