{
  "nbformat": 4,
  "nbformat_minor": 0,
  "metadata": {
    "colab": {
      "provenance": []
    },
    "kernelspec": {
      "name": "python3",
      "display_name": "Python 3"
    },
    "language_info": {
      "name": "python"
    }
  },
  "cells": [
    {
      "cell_type": "markdown",
      "source": [],
      "metadata": {
        "id": "hhH-biYmJVwN"
      }
    },
    {
      "cell_type": "markdown",
      "source": [
        "Question1. Write a function that stutters a word as if someone is struggling to read it. The first two letters are repeated twice with an ellipsis ... and space after each, and then the word is pronounced with a question mark ?.\n",
        "Examples\n",
        "stutter(\"incredible\") ➞ \"in... in... incredible?\"\n",
        "\n",
        "stutter(\"enthusiastic\") ➞ \"en... en... enthusiastic?\"\n",
        "\n",
        "stutter(\"outstanding\") ➞ \"ou... ou... outstanding?\"\n",
        "\n",
        "Hint :- Assume all input is in lower case and at least two characters long.\n"
      ],
      "metadata": {
        "id": "AUYzxW6-JY-3"
      }
    },
    {
      "cell_type": "code",
      "execution_count": 2,
      "metadata": {
        "colab": {
          "base_uri": "https://localhost:8080/",
          "height": 53
        },
        "id": "qvRbDwmvJRB5",
        "outputId": "47a671f1-eec9-4adb-90be-e9434cb38f61"
      },
      "outputs": [
        {
          "name": "stdout",
          "output_type": "stream",
          "text": [
            "Enter the word, please : enthusiastic\n"
          ]
        },
        {
          "output_type": "execute_result",
          "data": {
            "text/plain": [
              "'en... en... enthusiastic?'"
            ],
            "application/vnd.google.colaboratory.intrinsic+json": {
              "type": "string"
            }
          },
          "metadata": {},
          "execution_count": 2
        }
      ],
      "source": [
        "input = input(\"Enter the word, please : \")\n",
        "def stutter(voice) :\n",
        "  return voice[:2] + '...' + \" \" + voice[0:2] + '...' + \" \" + voice + '?'\n",
        "stutter(input)"
      ]
    },
    {
      "cell_type": "markdown",
      "source": [
        "Question 2.Create a function that takes an angle in radians and returns the corresponding angle in degrees rounded to one decimal place.\n",
        "Examples\n",
        "radians_to_degrees(1) ➞ 57.3\n",
        "\n",
        "radians_to_degrees(20) ➞ 1145.9\n",
        "\n",
        "radians_to_degrees(50) ➞ 2864.8\n"
      ],
      "metadata": {
        "id": "Jhahyg7HKU3O"
      }
    },
    {
      "cell_type": "code",
      "source": [
        "def radians_to_degrees(radian) :\n",
        "  return round(radian*180/3.1416,1)\n",
        "radians_to_degrees(20)"
      ],
      "metadata": {
        "colab": {
          "base_uri": "https://localhost:8080/"
        },
        "id": "_Ug9VtMMKNAM",
        "outputId": "47f8ab39-7364-4b66-8717-cd4a28362a6e"
      },
      "execution_count": 6,
      "outputs": [
        {
          "output_type": "execute_result",
          "data": {
            "text/plain": [
              "1145.9"
            ]
          },
          "metadata": {},
          "execution_count": 6
        }
      ]
    },
    {
      "cell_type": "markdown",
      "source": [
        "Question 3. In this challenge, establish if a given integer num is a Curzon number. If 1 plus 2 elevated to num is exactly divisible by 1 plus 2 multiplied by num, then num is a Curzon number.\n",
        "Given a non-negative integer num, implement a function that returns True if num is a Curzon number, or False otherwise.\n",
        "Examples\n",
        "is_curzon(5) ➞ True\n",
        "# 2 ** 5 + 1 = 33\n",
        "# 2 * 5 + 1 = 11\n",
        "# 33 is a multiple of 11\n",
        "\n",
        "is_curzon(10) ➞ False\n",
        "# 2 ** 10 + 1 = 1025\n",
        "# 2 * 10 + 1 = 21\n",
        "# 1025 is not a multiple of 21\n",
        "\n",
        "is_curzon(14) ➞ True\n",
        "# 2 ** 14 + 1 = 16385\n",
        "# 2 * 14 + 1 = 29\n",
        "# 16385 is a multiple of 29\n"
      ],
      "metadata": {
        "id": "Ngk8hdxFK2Mj"
      }
    },
    {
      "cell_type": "code",
      "source": [
        "def is_curzon(num) :\n",
        "  x = 2**num + 1\n",
        "  y = 2*num + 1\n",
        "  if x%y == 0 :\n",
        "    return True\n",
        "  return False\n",
        "is_curzon(10)"
      ],
      "metadata": {
        "colab": {
          "base_uri": "https://localhost:8080/"
        },
        "id": "LUwwQuB-K5dT",
        "outputId": "a5ee27fb-a16e-406c-c568-9906508359c3"
      },
      "execution_count": 9,
      "outputs": [
        {
          "output_type": "execute_result",
          "data": {
            "text/plain": [
              "False"
            ]
          },
          "metadata": {},
          "execution_count": 9
        }
      ]
    },
    {
      "cell_type": "markdown",
      "source": [
        "Question 4.Given the side length x find the area of a hexagon.\n",
        " \n",
        "Examples\n",
        "area_of_hexagon(1) ➞ 2.6\n",
        "\n",
        "area_of_hexagon(2) ➞ 10.4\n",
        "\n",
        "area_of_hexagon(3) ➞ 23.4\n"
      ],
      "metadata": {
        "id": "8uz1P9tWLfUF"
      }
    },
    {
      "cell_type": "code",
      "source": [
        "import math\n",
        "def area_of_hexagon(side) :\n",
        "  return round(3*math.sqrt(3)*side*side/2,1)\n",
        "area_of_hexagon(2)"
      ],
      "metadata": {
        "colab": {
          "base_uri": "https://localhost:8080/"
        },
        "id": "R-gqvS6nLYb4",
        "outputId": "8448a2b6-e2f6-4d1f-c644-f19398a73a94"
      },
      "execution_count": 14,
      "outputs": [
        {
          "output_type": "execute_result",
          "data": {
            "text/plain": [
              "10.4"
            ]
          },
          "metadata": {},
          "execution_count": 14
        }
      ]
    },
    {
      "cell_type": "markdown",
      "source": [
        "Question 5. Create a function that returns a base-2 (binary) representation of a base-10 (decimal) string number. To convert is simple: ((2) means base-2 and (10) means base-10) 010101001(2) = 1 + 8 + 32 + 128.\n",
        "Going from right to left, the value of the most right bit is 1, now from that every bit to the left will be x2 the value, value of an 8 bit binary numbers are (256, 128, 64, 32, 16, 8, 4, 2, 1).\n",
        "Examples\n",
        "binary(1) ➞ \"1\"\n",
        "# 1*1 = 1\n",
        "\n",
        "binary(5) ➞ \"101\"\n",
        "# 1*1 + 1*4 = 5\n",
        "\n",
        "binary(10) ➞ \"1010\"\n",
        "# 1*2 + 1*8 = 10\n"
      ],
      "metadata": {
        "id": "1ywx8SYSMR3w"
      }
    },
    {
      "cell_type": "code",
      "source": [
        "def decimalToBinary(n):\n",
        "    return bin(n).replace(\"0b\", \"\")\n",
        "   \n",
        "for i in range(0,50):\n",
        "    print(decimalToBinary(i))"
      ],
      "metadata": {
        "colab": {
          "base_uri": "https://localhost:8080/"
        },
        "id": "naakZ8s9MFDK",
        "outputId": "78b71d77-61c3-4972-8e60-aefee7bd3b40"
      },
      "execution_count": 20,
      "outputs": [
        {
          "output_type": "stream",
          "name": "stdout",
          "text": [
            "0\n",
            "1\n",
            "10\n",
            "11\n",
            "100\n",
            "101\n",
            "110\n",
            "111\n",
            "1000\n",
            "1001\n",
            "1010\n",
            "1011\n",
            "1100\n",
            "1101\n",
            "1110\n",
            "1111\n",
            "10000\n",
            "10001\n",
            "10010\n",
            "10011\n",
            "10100\n",
            "10101\n",
            "10110\n",
            "10111\n",
            "11000\n",
            "11001\n",
            "11010\n",
            "11011\n",
            "11100\n",
            "11101\n",
            "11110\n",
            "11111\n",
            "100000\n",
            "100001\n",
            "100010\n",
            "100011\n",
            "100100\n",
            "100101\n",
            "100110\n",
            "100111\n",
            "101000\n",
            "101001\n",
            "101010\n",
            "101011\n",
            "101100\n",
            "101101\n",
            "101110\n",
            "101111\n",
            "110000\n",
            "110001\n"
          ]
        }
      ]
    },
    {
      "cell_type": "code",
      "source": [],
      "metadata": {
        "id": "CZYOGWoWNJfF"
      },
      "execution_count": null,
      "outputs": []
    }
  ]
}