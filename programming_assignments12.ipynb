{
  "nbformat": 4,
  "nbformat_minor": 0,
  "metadata": {
    "colab": {
      "provenance": []
    },
    "kernelspec": {
      "name": "python3",
      "display_name": "Python 3"
    },
    "language_info": {
      "name": "python"
    }
  },
  "cells": [
    {
      "cell_type": "markdown",
      "source": [],
      "metadata": {
        "id": "h-2EB-TJJ0iB"
      }
    },
    {
      "cell_type": "markdown",
      "source": [
        "1.\tWrite a Python program to Extract Unique values dictionary values?"
      ],
      "metadata": {
        "id": "oSCQjqKrKo31"
      }
    },
    {
      "cell_type": "code",
      "source": [
        "def uniquedictvalues(value) :\n",
        "  x = set(value.values())\n",
        "  print(x)\n",
        "uniquedictvalues({'1' : 'SS', '2' : 'DKS', '3' : 'SS'})"
      ],
      "metadata": {
        "colab": {
          "base_uri": "https://localhost:8080/"
        },
        "id": "yrcOumOfJ22u",
        "outputId": "9b16752c-6359-4f87-d4ed-d0fc6906e4c9"
      },
      "execution_count": null,
      "outputs": [
        {
          "output_type": "stream",
          "name": "stdout",
          "text": [
            "{'DKS', 'SS'}\n"
          ]
        }
      ]
    },
    {
      "cell_type": "markdown",
      "source": [
        "2.\tWrite a Python program to find the sum of all items in a dictionary?"
      ],
      "metadata": {
        "id": "rDHcGdd-KsIV"
      }
    },
    {
      "cell_type": "code",
      "source": [
        "def sumdictvalues(value) :\n",
        "  sum = 0\n",
        "  for i in value.values() :\n",
        "    sum += i\n",
        "  return sum\n",
        "sumdictvalues({'1' : 2, '2' : 3, '3' : 0})"
      ],
      "metadata": {
        "colab": {
          "base_uri": "https://localhost:8080/"
        },
        "id": "yhS7eXvhKUsF",
        "outputId": "bfa2bb2f-54a6-4b4e-8587-9aa090bd5597"
      },
      "execution_count": null,
      "outputs": [
        {
          "output_type": "execute_result",
          "data": {
            "text/plain": [
              "5"
            ]
          },
          "metadata": {},
          "execution_count": 4
        }
      ]
    },
    {
      "cell_type": "markdown",
      "source": [
        "3.\tWrite a Python program to Merging two Dictionaries?"
      ],
      "metadata": {
        "id": "p1LIRZmTLg7D"
      }
    },
    {
      "cell_type": "code",
      "source": [
        "def mergetwodicts(dict1, dict2) :\n",
        "  for i,j in dict2.items() :\n",
        "    dict1[i] = j\n",
        "  return dict1\n",
        "print(mergetwodicts({'1' : 'SS', '2' : 'DKS', '3' : 'SS'}, {'4' : 2, '5' : 3, '6' : 0}))"
      ],
      "metadata": {
        "colab": {
          "base_uri": "https://localhost:8080/"
        },
        "id": "TaqtDD8ILYya",
        "outputId": "cd191df7-63c1-4dd2-a54c-728e4f57112b"
      },
      "execution_count": null,
      "outputs": [
        {
          "output_type": "stream",
          "name": "stdout",
          "text": [
            "{'1': 'SS', '2': 'DKS', '3': 'SS', '4': 2, '5': 3, '6': 0}\n"
          ]
        }
      ]
    },
    {
      "cell_type": "markdown",
      "source": [
        "4.\tWrite a Python program to convert key-values list to flat dictionary?"
      ],
      "metadata": {
        "id": "ULNNXozaNhHf"
      }
    },
    {
      "cell_type": "code",
      "source": [
        "test_dict = {'month' : [1, 2, 3],\n",
        "            'name' : ['Jan', 'Feb', 'March']}\n",
        "print(\"The original dictionary is : \" + str(test_dict))\n",
        "x=list(test_dict.values())\n",
        "a=x[0]\n",
        "b=x[1]\n",
        "d=dict()\n",
        "for i in range(0,len(a)):\n",
        "    d[a[i]]=b[i]\n",
        "print(\"Flattened dictionary : \" + str(d))"
      ],
      "metadata": {
        "colab": {
          "base_uri": "https://localhost:8080/"
        },
        "id": "OqPv2VvTMetg",
        "outputId": "a8385579-427d-4a85-f1ff-fe8782ee91fb"
      },
      "execution_count": null,
      "outputs": [
        {
          "output_type": "stream",
          "name": "stdout",
          "text": [
            "The original dictionary is : {'month': [1, 2, 3], 'name': ['Jan', 'Feb', 'March']}\n",
            "Flattened dictionary : {1: 'Jan', 2: 'Feb', 3: 'March'}\n"
          ]
        }
      ]
    },
    {
      "cell_type": "markdown",
      "source": [
        "5.\tWrite a Python program to insertion at the beginning in OrderedDict?"
      ],
      "metadata": {
        "id": "MBxkWcCjN2EG"
      }
    },
    {
      "cell_type": "code",
      "source": [
        "from collections import OrderedDict\n",
        "iniordered_dict = OrderedDict([('akshat', '1'), ('nikhil', '2')])\n",
        "iniordered_dict.update({'manjeet':'3'})\n",
        "iniordered_dict.move_to_end('manjeet', last = False)\n",
        "print (\"Resultant Dictionary : \"+str(iniordered_dict))"
      ],
      "metadata": {
        "id": "k0qZMPemNzIY",
        "colab": {
          "base_uri": "https://localhost:8080/"
        },
        "outputId": "7dc0d41a-fbc4-47b1-c107-c004f63ee9af"
      },
      "execution_count": 1,
      "outputs": [
        {
          "output_type": "stream",
          "name": "stdout",
          "text": [
            "Resultant Dictionary : OrderedDict([('manjeet', '3'), ('akshat', '1'), ('nikhil', '2')])\n"
          ]
        }
      ]
    },
    {
      "cell_type": "markdown",
      "source": [
        "6.\tWrite a Python program to check order of character in string using OrderedDict()?"
      ],
      "metadata": {
        "id": "ydkGmkYJRyy1"
      }
    },
    {
      "cell_type": "code",
      "source": [
        "from collections import OrderedDict\n",
        "\n",
        "def checkOrder(input, pattern):\n",
        "\tdict = OrderedDict.fromkeys(input)\n",
        "\tptrlen = 0\n",
        "\tfor key,value in dict.items():\n",
        "\t\tif (key == pattern[ptrlen]):\n",
        "\t\t\tptrlen = ptrlen + 1\n",
        "\t\tif (ptrlen == (len(pattern))):\n",
        "\t\t\treturn 'true'\n",
        "\treturn 'false'\n",
        "if __name__ == \"__main__\":\n",
        "\tinput = 'engineers rock'\n",
        "\tpattern = 'er'\n",
        "\tprint (checkOrder(input,pattern))\n"
      ],
      "metadata": {
        "colab": {
          "base_uri": "https://localhost:8080/"
        },
        "id": "WB46isBNRmX_",
        "outputId": "2b1695dc-14ca-46b5-f208-87dc7c303510"
      },
      "execution_count": 2,
      "outputs": [
        {
          "output_type": "stream",
          "name": "stdout",
          "text": [
            "true\n"
          ]
        }
      ]
    },
    {
      "cell_type": "markdown",
      "source": [
        "7.\tWrite a Python program to sort Python Dictionaries by Key or Value?"
      ],
      "metadata": {
        "id": "CPJ4sk5DStDQ"
      }
    },
    {
      "cell_type": "code",
      "source": [
        "myDict = {'ravi': 10, 'rajnish': 9,\n",
        "\t\t'sanjeev': 15, 'yash': 2, 'suraj': 32}\n",
        "\n",
        "myKeys = list(myDict.keys())\n",
        "myKeys.sort()\n",
        "sorted_dict = {i: myDict[i] for i in myKeys}\n",
        "\n",
        "print(sorted_dict)"
      ],
      "metadata": {
        "colab": {
          "base_uri": "https://localhost:8080/"
        },
        "id": "wTCHk1fgSoja",
        "outputId": "1def371a-9c15-4075-a9ba-f8b874fd731e"
      },
      "execution_count": 3,
      "outputs": [
        {
          "output_type": "stream",
          "name": "stdout",
          "text": [
            "{'rajnish': 9, 'ravi': 10, 'sanjeev': 15, 'suraj': 32, 'yash': 2}\n"
          ]
        }
      ]
    },
    {
      "cell_type": "code",
      "source": [],
      "metadata": {
        "id": "NHD5fG9JS7vZ"
      },
      "execution_count": null,
      "outputs": []
    }
  ]
}