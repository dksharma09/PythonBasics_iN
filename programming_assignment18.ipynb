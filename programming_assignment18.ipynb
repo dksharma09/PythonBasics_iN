{
  "nbformat": 4,
  "nbformat_minor": 0,
  "metadata": {
    "colab": {
      "provenance": []
    },
    "kernelspec": {
      "name": "python3",
      "display_name": "Python 3"
    },
    "language_info": {
      "name": "python"
    }
  },
  "cells": [
    {
      "cell_type": "markdown",
      "source": [
        "Question 1\n",
        "Create a function that takes a list of non-negative integers and strings and return a new list without the strings.\n",
        "Examples\n",
        "filter_list([1, 2, \"a\", \"b\"]) ➞ [1, 2]\n",
        "\n",
        "filter_list([1, \"a\", \"b\", 0, 15]) ➞ [1, 0, 15]\n",
        "\n",
        "filter_list([1, 2, \"aasf\", \"1\", \"123\", 123]) ➞ [1, 2, 123]\n",
        "\n"
      ],
      "metadata": {
        "id": "9UFHU6uO-Sn_"
      }
    },
    {
      "cell_type": "code",
      "execution_count": 1,
      "metadata": {
        "colab": {
          "base_uri": "https://localhost:8080/"
        },
        "id": "QPgoBliU-Hx3",
        "outputId": "850f6a2a-5260-420c-de7b-46663bc9a57b"
      },
      "outputs": [
        {
          "output_type": "stream",
          "name": "stdout",
          "text": [
            "[1, 2, 123]\n"
          ]
        }
      ],
      "source": [
        "l = [1, 2, 'aasf', '1', '123', 123]\n",
        "\n",
        "def filter_list(l):\n",
        "    new_list = []\n",
        "    for x in l:\n",
        "        if type(x) == int:\n",
        "            new_list.append(x)\n",
        "    return new_list\n",
        "\n",
        "print(filter_list(l))"
      ]
    },
    {
      "cell_type": "markdown",
      "source": [
        "Question 2\n",
        "The \"Reverser\" takes a string as input and returns that string in reverse order, with the opposite case.\n",
        "Examples\n",
        "reverse(\"Hello World\") ➞ \"DLROw OLLEh\"\n",
        "\n",
        "reverse(\"ReVeRsE\") ➞ \"eSrEvEr\"\n",
        "\n",
        "reverse(\"Radar\") ➞ \"RADAr\"\n"
      ],
      "metadata": {
        "id": "_9qWO-gZ-pM3"
      }
    },
    {
      "cell_type": "code",
      "source": [
        "def reverse(str):\n",
        "    str = str[::-1]\n",
        "    return str.swapcase()\n",
        "    \n",
        "print(reverse('ReVeRsE'))"
      ],
      "metadata": {
        "colab": {
          "base_uri": "https://localhost:8080/"
        },
        "id": "TdJPy1MX-l3J",
        "outputId": "c3802d8a-4dee-43f3-9032-6dc7f3c2bf01"
      },
      "execution_count": 2,
      "outputs": [
        {
          "output_type": "stream",
          "name": "stdout",
          "text": [
            "eSrEvEr\n"
          ]
        }
      ]
    },
    {
      "cell_type": "markdown",
      "source": [
        "Question 3\n",
        "You can assign variables from lists like this:\n",
        "lst = [1, 2, 3, 4, 5, 6]\n",
        "first = lst[0]\n",
        "middle = lst[1:-1]\n",
        "last = lst[-1]\n",
        "\n",
        "print(first) ➞ outputs 1\n",
        "print(middle) ➞ outputs [2, 3, 4, 5]\n",
        "print(last) ➞ outputs 6\n",
        "With Python 3, you can assign variables from lists in a much more succinct way. Create variables first, middle and last from the given list using destructuring assignment (check the Resources tab for some examples), where:\n"
      ],
      "metadata": {
        "id": "LpJI6zqa-164"
      }
    },
    {
      "cell_type": "code",
      "source": [
        "lst = [1, 2, 3, 4, 5, 6]\n",
        "first ,*middle,last = lst\n",
        "print(first)\n",
        "print(middle)\n",
        "print(last)"
      ],
      "metadata": {
        "colab": {
          "base_uri": "https://localhost:8080/"
        },
        "id": "4LdLTUZz-0Gq",
        "outputId": "e611c7e2-5585-4135-a85b-43ccb603e20e"
      },
      "execution_count": 6,
      "outputs": [
        {
          "output_type": "stream",
          "name": "stdout",
          "text": [
            "1\n",
            "[2, 3, 4, 5]\n",
            "6\n"
          ]
        }
      ]
    },
    {
      "cell_type": "markdown",
      "source": [
        "Question 4\n",
        "Write a function that calculates the factorial of a number recursively.\n",
        "Examples\n",
        "factorial(5) ➞ 120\n",
        "\n",
        "factorial(3) ➞ 6\n",
        "\n",
        "factorial(1) ➞ 1\n",
        "\n",
        "factorial(0) ➞ 1\n"
      ],
      "metadata": {
        "id": "7lBVDGbS_dds"
      }
    },
    {
      "cell_type": "code",
      "source": [
        "def factorial(n):     \n",
        "    if n == 0:\n",
        "        return 1    \n",
        "    return n * factorial(n-1)\n",
        "\n",
        "num = int(input('enter a number :'))\n",
        "print(\"Factorial of\", num, \"is\", factorial(num))"
      ],
      "metadata": {
        "colab": {
          "base_uri": "https://localhost:8080/"
        },
        "id": "05mG--qA_R8z",
        "outputId": "7db67db6-9412-4eb3-b11f-e3d1233dbff4"
      },
      "execution_count": 7,
      "outputs": [
        {
          "output_type": "stream",
          "name": "stdout",
          "text": [
            "enter a number :6\n",
            "Factorial of 6 is 720\n"
          ]
        }
      ]
    },
    {
      "cell_type": "markdown",
      "source": [
        "Question 5\n",
        "Write a function that moves all elements of one type to the end of the list.\n",
        "Examples\n",
        "move_to_end([1, 3, 2, 4, 4, 1], 1) ➞ [3, 2, 4, 4, 1, 1]\n",
        "# Move all the 1s to the end of the array.\n",
        "\n",
        "move_to_end([7, 8, 9, 1, 2, 3, 4], 9) ➞ [7, 8, 1, 2, 3, 4, 9]\n",
        "\n",
        "move_to_end([\"a\", \"a\", \"a\", \"b\"], \"a\") ➞ [\"b\", \"a\", \"a\", \"a\"]\n"
      ],
      "metadata": {
        "id": "wgkpyuA-_om9"
      }
    },
    {
      "cell_type": "code",
      "source": [
        "def move_to_end(array, toMove):\n",
        "     \n",
        "    i = 0\n",
        " \n",
        "    # Mark the right pointer\n",
        "    j = len(array) - 1\n",
        "  \n",
        "    # Iterate untill left pointer\n",
        "    # crosses the right pointer\n",
        "    while (i < j):\n",
        "  \n",
        "        while (i < j and array[j] == toMove):\n",
        "  \n",
        "            # decrement right pointer\n",
        "            j-=1\n",
        "  \n",
        "        if (array[i] == toMove):\n",
        "  \n",
        "            # swap the two elements\n",
        "            # in the array\n",
        "            array[i], array[j] = array[j] , array[i]\n",
        "  \n",
        "        # increment left pointer\n",
        "        i += 1\n",
        "  \n",
        "    # return the result\n",
        "    return array\n",
        "\n",
        "arr = [7, 8, 9, 1, 2, 3, 4]\n",
        "k = 9\n",
        "ans = move_to_end(arr, k)\n",
        "for i in range(len(arr)):\n",
        "    print(ans[i] ,end= \" \")"
      ],
      "metadata": {
        "colab": {
          "base_uri": "https://localhost:8080/"
        },
        "id": "mn8FkqZr_mws",
        "outputId": "4d39407b-46ed-4eed-9d91-5941079a72dd"
      },
      "execution_count": 9,
      "outputs": [
        {
          "output_type": "stream",
          "name": "stdout",
          "text": [
            "7 8 4 1 2 3 9 "
          ]
        }
      ]
    },
    {
      "cell_type": "code",
      "source": [],
      "metadata": {
        "id": "QfVzUA5w_xvV"
      },
      "execution_count": null,
      "outputs": []
    }
  ]
}