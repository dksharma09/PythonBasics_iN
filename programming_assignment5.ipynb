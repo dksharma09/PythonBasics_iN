{
  "nbformat": 4,
  "nbformat_minor": 0,
  "metadata": {
    "colab": {
      "provenance": []
    },
    "kernelspec": {
      "name": "python3",
      "display_name": "Python 3"
    },
    "language_info": {
      "name": "python"
    }
  },
  "cells": [
    {
      "cell_type": "markdown",
      "source": [
        "1.\tWrite a Python Program to Find LCM?"
      ],
      "metadata": {
        "id": "UYkp_Vd3qZzA"
      }
    },
    {
      "cell_type": "code",
      "source": [
        "num1 = int(input(\"Enter smaller number, Please : \"))\n",
        "num2 = int(input(\"Enter larger number, Please : \"))\n",
        "for i in range (num1, num1*num2+1) :\n",
        "  if i%num1==0 and i%num2==0 :\n",
        "    print(f'LCM of {num1} and {num2} is {i}')\n",
        "    break"
      ],
      "metadata": {
        "colab": {
          "base_uri": "https://localhost:8080/"
        },
        "id": "7umbCqV9qXLi",
        "outputId": "3b40c4ce-4a41-41f4-f780-b67bdf00e91b"
      },
      "execution_count": 4,
      "outputs": [
        {
          "output_type": "stream",
          "name": "stdout",
          "text": [
            "Enter smaller number, Please : 13\n",
            "Enter larger number, Please : 17\n",
            "LCM of 13 and 17 is 221\n"
          ]
        }
      ]
    },
    {
      "cell_type": "markdown",
      "source": [
        "2.\tWrite a Python Program to Find HCF?"
      ],
      "metadata": {
        "id": "SMpfX5Inr-Rx"
      }
    },
    {
      "cell_type": "code",
      "source": [
        "num1 = int(input(\"Enter smaller number, Please : \"))\n",
        "num2 = int(input(\"Enter larger number, Please : \"))\n",
        "HCF = 1\n",
        "for i in range (1,num1+1) :\n",
        "  if num1%i==0 and num2%i==0 :\n",
        "    HCF = i\n",
        "print(f'HCF of {num1} and {num2} is {HCF}')"
      ],
      "metadata": {
        "colab": {
          "base_uri": "https://localhost:8080/"
        },
        "id": "1Tt26iDdrgog",
        "outputId": "ed3ef45f-b6a5-4393-93c8-4e3030b8731f"
      },
      "execution_count": 7,
      "outputs": [
        {
          "output_type": "stream",
          "name": "stdout",
          "text": [
            "Enter smaller number, Please : 3\n",
            "Enter larger number, Please : 9\n",
            "HCF of 3 and 9 is 3\n"
          ]
        }
      ]
    },
    {
      "cell_type": "markdown",
      "source": [
        "3.\tWrite a Python Program to Convert Decimal to Binary, Octal and Hexadecimal?"
      ],
      "metadata": {
        "id": "FYOxtqYYtJQ8"
      }
    },
    {
      "cell_type": "code",
      "source": [
        "dec = 344\n",
        "\n",
        "print(\"The decimal value of\", dec, \"is:\")\n",
        "print(bin(dec), \"in binary.\")\n",
        "print(oct(dec), \"in octal.\")\n",
        "print(hex(dec), \"in hexadecimal.\")"
      ],
      "metadata": {
        "colab": {
          "base_uri": "https://localhost:8080/"
        },
        "id": "CyZdHgIis9h9",
        "outputId": "fc209757-8569-4777-89ff-fa096b7f51b6"
      },
      "execution_count": 8,
      "outputs": [
        {
          "output_type": "stream",
          "name": "stdout",
          "text": [
            "The decimal value of 344 is:\n",
            "0b101011000 in binary.\n",
            "0o530 in octal.\n",
            "0x158 in hexadecimal.\n"
          ]
        }
      ]
    },
    {
      "cell_type": "markdown",
      "source": [
        "4.\tWrite a Python Program To Find ASCII value of a character?"
      ],
      "metadata": {
        "id": "6S5oKyz9taPb"
      }
    },
    {
      "cell_type": "code",
      "source": [
        "c = 'p'\n",
        "print(\"The ASCII value of '\" + c + \"' is\", ord(c))"
      ],
      "metadata": {
        "colab": {
          "base_uri": "https://localhost:8080/"
        },
        "id": "2KKAUVSFtbaS",
        "outputId": "3c74b07d-0bde-439c-8788-e1a6f9fe3aa3"
      },
      "execution_count": 9,
      "outputs": [
        {
          "output_type": "stream",
          "name": "stdout",
          "text": [
            "The ASCII value of 'p' is 112\n"
          ]
        }
      ]
    },
    {
      "cell_type": "markdown",
      "source": [
        "5.\tWrite a Python Program to Make a Simple Calculator with 4 basic mathematical operations?"
      ],
      "metadata": {
        "id": "RqUniB_Vtrt2"
      }
    },
    {
      "cell_type": "code",
      "source": [
        "try :\n",
        "  class calculator :\n",
        "    def __init__(self) :\n",
        "      pass\n",
        "    def add(self, num1, num2) :\n",
        "      print(f'Addition of {num1} and {num2} is {num1+num2}')\n",
        "    def sub(self, num1, num2) :\n",
        "      print(f'Subtraction of {num1} and {num2} is {num1-num2}')\n",
        "    def mult(self, num1, num2) :\n",
        "      print(f'Multiplication of {num1} and {num2} is {num1*num2}')\n",
        "    def div(self, num1, num2) :\n",
        "        if num2 != 0 :\n",
        "          print(f'Division of {num1} and {num2} is {num1/num2}')\n",
        "        else :\n",
        "          print(\"Not divisible by Zero\")\n",
        "except Exception as e :\n",
        "  print(e)\n",
        "obj = calculator()\n",
        "obj.add(6,9)\n",
        "obj.sub(2,7)\n",
        "obj.mult(0,9)\n",
        "obj.div(1,0)\n"
      ],
      "metadata": {
        "colab": {
          "base_uri": "https://localhost:8080/"
        },
        "id": "i6MOsYYotv8S",
        "outputId": "2c480036-b379-4221-b5db-383ba041f6e2"
      },
      "execution_count": 13,
      "outputs": [
        {
          "output_type": "stream",
          "name": "stdout",
          "text": [
            "Addition of 6 and 9 is 15\n",
            "Subtraction of 2 and 7 is -5\n",
            "Multiplication of 0 and 9 is 0\n",
            "Not divisible by Zero\n"
          ]
        }
      ]
    },
    {
      "cell_type": "code",
      "source": [],
      "metadata": {
        "id": "BUyi8QhfvVE6"
      },
      "execution_count": null,
      "outputs": []
    }
  ]
}