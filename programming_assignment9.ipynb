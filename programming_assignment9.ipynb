{
  "nbformat": 4,
  "nbformat_minor": 0,
  "metadata": {
    "colab": {
      "provenance": []
    },
    "kernelspec": {
      "name": "python3",
      "display_name": "Python 3"
    },
    "language_info": {
      "name": "python"
    }
  },
  "cells": [
    {
      "cell_type": "markdown",
      "source": [
        "1.\tWrite a Python program to check if the given number is a Disarium Number?"
      ],
      "metadata": {
        "id": "VVz8YBAW3Qmw"
      }
    },
    {
      "cell_type": "code",
      "source": [
        "import math\n",
        "in_val = input(\"Enter the number : \")\n",
        "j=1\n",
        "sum=0\n",
        "for i in in_val :\n",
        "  sum = sum + math.pow(int(i),j)\n",
        "  j=j+1\n",
        "if(int(sum) ==  int(in_val)) :\n",
        "  print(\"The given number is a Disarium number.\")\n",
        "else :\n",
        "  print(\"The given number is not a Disarium number.\")"
      ],
      "metadata": {
        "colab": {
          "base_uri": "https://localhost:8080/"
        },
        "id": "y0OdzC0V3TKm",
        "outputId": "975498a3-1cab-4b94-c542-920b52f3545b"
      },
      "execution_count": 6,
      "outputs": [
        {
          "output_type": "stream",
          "name": "stdout",
          "text": [
            "Enter the number : 88\n",
            "The given number is not a Disarium number.\n"
          ]
        }
      ]
    },
    {
      "cell_type": "markdown",
      "source": [
        "2.\tWrite a Python program to print all disarium numbers between 1 to 100?"
      ],
      "metadata": {
        "id": "jzdLD4x0wZ8i"
      }
    },
    {
      "cell_type": "code",
      "source": [
        "import math\n",
        "for in_val in range(1,100) :\n",
        "  j=1\n",
        "  sum=0\n",
        "  for i in str(in_val) :\n",
        "    sum = sum + math.pow(int(i),j)\n",
        "    j=j+1\n",
        "  if(int(sum) ==  int(in_val)) :\n",
        "    print(in_val, end=\" \")"
      ],
      "metadata": {
        "id": "Z6HrA5HO50OO",
        "colab": {
          "base_uri": "https://localhost:8080/"
        },
        "outputId": "3943eec1-9730-4ff6-b5dd-f82a12096d16"
      },
      "execution_count": 9,
      "outputs": [
        {
          "output_type": "stream",
          "name": "stdout",
          "text": [
            "1 2 3 4 5 6 7 8 9 89 "
          ]
        }
      ]
    },
    {
      "cell_type": "markdown",
      "source": [
        "3.\tWrite a Python program to check if the given number is Happy Number?"
      ],
      "metadata": {
        "id": "_q9Ag7jrx6lu"
      }
    },
    {
      "cell_type": "code",
      "source": [
        "def is_happy_number(n):\n",
        "    seen = set()\n",
        "    while int(n) != 1:\n",
        "        n = sum(int(int(digit)**2) for digit in str(int(n)))\n",
        "        if int(n) in seen:\n",
        "            return False\n",
        "        seen.add(n)\n",
        "    return True\n",
        "is_happy_number(94)"
      ],
      "metadata": {
        "colab": {
          "base_uri": "https://localhost:8080/"
        },
        "id": "pcRNokfN9Ei3",
        "outputId": "9a4e0dd6-2e58-4d83-9eae-367aa51bd41f"
      },
      "execution_count": 5,
      "outputs": [
        {
          "output_type": "execute_result",
          "data": {
            "text/plain": [
              "True"
            ]
          },
          "metadata": {},
          "execution_count": 5
        }
      ]
    },
    {
      "cell_type": "code",
      "source": [
        "4.\tWrite a Python program to print all happy numbers between 1 and 100?"
      ],
      "metadata": {
        "id": "dIKZhYgFef-Q"
      },
      "execution_count": null,
      "outputs": []
    },
    {
      "cell_type": "code",
      "source": [
        "def is_happy_number(n):\n",
        "    seen = set()\n",
        "    while int(n) != 1:\n",
        "        n = sum(int(int(digit)**2) for digit in str(int(n)))\n",
        "        if int(n) in seen:\n",
        "            return False\n",
        "        seen.add(n)\n",
        "    return True\n",
        "for i in range(1,100) :\n",
        "  if is_happy_number(i) :\n",
        "    print(i, end=\" \")"
      ],
      "metadata": {
        "colab": {
          "base_uri": "https://localhost:8080/"
        },
        "id": "D9EUk9ApDPcL",
        "outputId": "6a6664c1-4e2f-4a16-d6fc-9ace05a1c0a6"
      },
      "execution_count": 8,
      "outputs": [
        {
          "output_type": "stream",
          "name": "stdout",
          "text": [
            "1 7 10 13 19 23 28 31 32 44 49 68 70 79 82 86 91 94 97 "
          ]
        }
      ]
    },
    {
      "cell_type": "markdown",
      "source": [
        "5.\tWrite a Python program to determine whether the given number is a Harshad Number?"
      ],
      "metadata": {
        "id": "u5zcwm84gBI6"
      }
    },
    {
      "cell_type": "code",
      "source": [
        "def is_harshad_number(n) :\n",
        "  sum = 0\n",
        "  for i in str(n) :\n",
        "    sum += int(i)\n",
        "  if n%sum == 0 :\n",
        "    return True\n",
        "  else :\n",
        "    return False\n",
        "is_harshad_number(156)"
      ],
      "metadata": {
        "colab": {
          "base_uri": "https://localhost:8080/"
        },
        "id": "90ktkp3Nfv8F",
        "outputId": "1d593ea4-baf1-43be-b1b4-bf6a99be4247"
      },
      "execution_count": 10,
      "outputs": [
        {
          "output_type": "execute_result",
          "data": {
            "text/plain": [
              "True"
            ]
          },
          "metadata": {},
          "execution_count": 10
        }
      ]
    },
    {
      "cell_type": "markdown",
      "source": [
        "6.\tWrite a Python program to print all pronic numbers between 1 and 100?"
      ],
      "metadata": {
        "id": "0vx4yGxugvRZ"
      }
    },
    {
      "cell_type": "code",
      "source": [
        "def isPronicNumber(num):    \n",
        "    flag = False;    \n",
        "    for j in range(1, num+1):    \n",
        "        #Checks for pronic number by multiplying consecutive numbers    \n",
        "        if((j*(j+1)) == num):    \n",
        "            flag = True;    \n",
        "            break;    \n",
        "    return flag;        \n",
        "for i in range(1, 101):    \n",
        "    if(isPronicNumber(i)):    \n",
        "        print(i, end=\" \")   "
      ],
      "metadata": {
        "colab": {
          "base_uri": "https://localhost:8080/"
        },
        "id": "Rrms0ySbgn7l",
        "outputId": "08a4a5a7-6aff-4e98-a7a0-272c8a8a89e8"
      },
      "execution_count": 13,
      "outputs": [
        {
          "output_type": "stream",
          "name": "stdout",
          "text": [
            "2 6 12 20 30 42 56 72 90 "
          ]
        }
      ]
    },
    {
      "cell_type": "code",
      "source": [],
      "metadata": {
        "id": "j0sWMih0iiON"
      },
      "execution_count": null,
      "outputs": []
    }
  ]
}