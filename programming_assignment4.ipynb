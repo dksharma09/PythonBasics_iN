{
  "nbformat": 4,
  "nbformat_minor": 0,
  "metadata": {
    "colab": {
      "provenance": []
    },
    "kernelspec": {
      "name": "python3",
      "display_name": "Python 3"
    },
    "language_info": {
      "name": "python"
    }
  },
  "cells": [
    {
      "cell_type": "markdown",
      "source": [
        "1.\tWrite a Python Program to Find the Factorial of a Number?"
      ],
      "metadata": {
        "id": "DCtqVmQj7VxL"
      }
    },
    {
      "cell_type": "code",
      "source": [
        "num = int(input(\"Please, Enter the number : \"))\n",
        "factorial = 1\n",
        "for i in range(1,num+1) :\n",
        "  factorial = factorial * i\n",
        "print(f'Factorial of {num} is {factorial}.')"
      ],
      "metadata": {
        "colab": {
          "base_uri": "https://localhost:8080/"
        },
        "id": "RBtP_ypI7Xb5",
        "outputId": "bf6c5e33-03ab-41ee-972d-06bd39f99aff"
      },
      "execution_count": 2,
      "outputs": [
        {
          "output_type": "stream",
          "name": "stdout",
          "text": [
            "Please, Enter the number : 10\n",
            "Factorial of 10 is 3628800.\n"
          ]
        }
      ]
    },
    {
      "cell_type": "markdown",
      "source": [
        "2.\tWrite a Python Program to Display the multiplication Table?"
      ],
      "metadata": {
        "id": "vIiWwBbh8prs"
      }
    },
    {
      "cell_type": "code",
      "source": [
        "num = int(input(\"Please, Enter the number : \"))\n",
        "for i in range(1,11) :\n",
        "  print(f'{num}*{i} = {num*i}')"
      ],
      "metadata": {
        "colab": {
          "base_uri": "https://localhost:8080/"
        },
        "id": "krRs9ARf8umI",
        "outputId": "fdc2bb19-2184-4eaa-f4be-ea298c733455"
      },
      "execution_count": 5,
      "outputs": [
        {
          "output_type": "stream",
          "name": "stdout",
          "text": [
            "Please, Enter the number : 12\n",
            "12*1 = 12\n",
            "12*2 = 24\n",
            "12*3 = 36\n",
            "12*4 = 48\n",
            "12*5 = 60\n",
            "12*6 = 72\n",
            "12*7 = 84\n",
            "12*8 = 96\n",
            "12*9 = 108\n",
            "12*10 = 120\n"
          ]
        }
      ]
    },
    {
      "cell_type": "markdown",
      "source": [
        "3.\tWrite a Python Program to Print the Fibonacci sequence?"
      ],
      "metadata": {
        "id": "BNF4KBIg9rsz"
      }
    },
    {
      "cell_type": "code",
      "source": [
        "nterms = int(input(\"How many terms? \"))\n",
        "n1, n2 = 0, 1\n",
        "count = 0\n",
        "if nterms <= 0:\n",
        "   print(\"Please enter a positive integer\")\n",
        "elif nterms == 1:\n",
        "   print(\"Fibonacci sequence upto\",nterms,\":\")\n",
        "   print(n1)\n",
        "else:\n",
        "   print(\"Fibonacci sequence:\")\n",
        "   while count < nterms:\n",
        "       print(n1)\n",
        "       nth = n1 + n2\n",
        "       n1 = n2\n",
        "       n2 = nth\n",
        "       count += 1"
      ],
      "metadata": {
        "colab": {
          "base_uri": "https://localhost:8080/"
        },
        "id": "56Tg0YzK9vVu",
        "outputId": "7143aa8c-95d3-4349-b4dd-9b04fc8bdd43"
      },
      "execution_count": 6,
      "outputs": [
        {
          "output_type": "stream",
          "name": "stdout",
          "text": [
            "How many terms? 4\n",
            "Fibonacci sequence:\n",
            "0\n",
            "1\n",
            "1\n",
            "2\n"
          ]
        }
      ]
    },
    {
      "cell_type": "markdown",
      "source": [
        "4.\tWrite a Python Program to Check Armstrong Number?"
      ],
      "metadata": {
        "id": "jEFGJwqn-dn_"
      }
    },
    {
      "cell_type": "code",
      "source": [
        "num = int(input(\"Please, Enter the number : \"))\n",
        "order = len(str(num))\n",
        "sum = 0\n",
        "temp = num\n",
        "while temp > 0:\n",
        "   digit = temp % 10\n",
        "   sum += digit ** order\n",
        "   temp //= 10\n",
        "if num == sum:\n",
        "   print(num,\"is an Armstrong number\")\n",
        "else:\n",
        "   print(num,\"is not an Armstrong number\")\n"
      ],
      "metadata": {
        "colab": {
          "base_uri": "https://localhost:8080/"
        },
        "id": "_DhxJgrp_JDX",
        "outputId": "3d949a7d-dc33-4e86-ea2b-7f12a2482ac0"
      },
      "execution_count": 8,
      "outputs": [
        {
          "output_type": "stream",
          "name": "stdout",
          "text": [
            "Please, Enter the number : 153\n",
            "153 is an Armstrong number\n"
          ]
        }
      ]
    },
    {
      "cell_type": "markdown",
      "source": [
        "5.\tWrite a Python Program to Find Armstrong Number in an Interval?"
      ],
      "metadata": {
        "id": "lpMn1HMz_2Qx"
      }
    },
    {
      "cell_type": "code",
      "source": [
        "lower = int(input(\"Please, Enter the lower number : \"))\n",
        "upper = int(input(\"Please, Enter the upper number : \"))\n",
        "for num in range(lower, upper + 1):\n",
        "   order = len(str(num))\n",
        "   sum = 0\n",
        "   temp = num\n",
        "   while temp > 0:\n",
        "       digit = temp % 10\n",
        "       sum += digit ** order\n",
        "       temp //= 10\n",
        "   if num == sum:\n",
        "       print(num)"
      ],
      "metadata": {
        "colab": {
          "base_uri": "https://localhost:8080/"
        },
        "id": "aP5lGOtI_7mY",
        "outputId": "9e70f599-4825-4f1f-8718-0fb979cfa644"
      },
      "execution_count": 15,
      "outputs": [
        {
          "output_type": "stream",
          "name": "stdout",
          "text": [
            "Please, Enter the lower number : 100\n",
            "Please, Enter the upper number : 999\n",
            "153\n",
            "370\n",
            "371\n",
            "407\n"
          ]
        }
      ]
    },
    {
      "cell_type": "markdown",
      "source": [
        "6.\tWrite a Python Program to Find the Sum of Natural Numbers?"
      ],
      "metadata": {
        "id": "ZlQNLW0KBrjg"
      }
    },
    {
      "cell_type": "code",
      "source": [
        "num = int(input(\"Please, Enter the number : \"))\n",
        "sum = (num*(num+1))/2\n",
        "print(f'Sum of natural {num} numbers is {int(sum)}.')"
      ],
      "metadata": {
        "colab": {
          "base_uri": "https://localhost:8080/"
        },
        "id": "PmIKZUglBtP5",
        "outputId": "4a211c64-ecb5-411d-a451-39910de8aba5"
      },
      "execution_count": 13,
      "outputs": [
        {
          "output_type": "stream",
          "name": "stdout",
          "text": [
            "Please, Enter the number : 4\n",
            "Sum of natural 4 numbers is 10.\n"
          ]
        }
      ]
    }
  ]
}