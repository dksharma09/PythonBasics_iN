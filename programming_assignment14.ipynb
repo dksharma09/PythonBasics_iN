{
  "nbformat": 4,
  "nbformat_minor": 0,
  "metadata": {
    "colab": {
      "provenance": []
    },
    "kernelspec": {
      "name": "python3",
      "display_name": "Python 3"
    },
    "language_info": {
      "name": "python"
    }
  },
  "cells": [
    {
      "cell_type": "markdown",
      "source": [
        "Question 1:\n",
        "\n",
        "Define a class with a generator which can iterate the numbers, which are divisible by 7, between a given range 0 and n.\n"
      ],
      "metadata": {
        "id": "qsYJAi8VK-Un"
      }
    },
    {
      "cell_type": "code",
      "execution_count": null,
      "metadata": {
        "colab": {
          "base_uri": "https://localhost:8080/"
        },
        "id": "_no6RqxgK495",
        "outputId": "a8ab7ade-731e-4450-c0f7-6cea098a7748"
      },
      "outputs": [
        {
          "output_type": "stream",
          "name": "stdout",
          "text": [
            "1000\n",
            "[0, 7, 14, 21, 28, 35, 42, 49, 56, 63, 70, 77, 84, 91, 98, 105, 112, 119, 126, 133, 140, 147, 154, 161, 168, 175, 182, 189, 196, 203, 210, 217, 224, 231, 238, 245, 252, 259, 266, 273, 280, 287, 294, 301, 308, 315, 322, 329, 336, 343, 350, 357, 364, 371, 378, 385, 392, 399, 406, 413, 420, 427, 434, 441, 448, 455, 462, 469, 476, 483, 490, 497, 504, 511, 518, 525, 532, 539, 546, 553, 560, 567, 574, 581, 588, 595, 602, 609, 616, 623, 630, 637, 644, 651, 658, 665, 672, 679, 686, 693, 700, 707, 714, 721, 728, 735, 742, 749, 756, 763, 770, 777, 784, 791, 798, 805, 812, 819, 826, 833, 840, 847, 854, 861, 868, 875, 882, 889, 896, 903, 910, 917, 924, 931, 938, 945, 952, 959, 966, 973, 980, 987, 994]\n"
          ]
        }
      ],
      "source": [
        "n = int(input())\n",
        "divBy7 = [i for i in range(0, n) if (i % 7 == 0)]\n",
        "print(divBy7)"
      ]
    },
    {
      "cell_type": "markdown",
      "source": [
        "Question 2:\n",
        "Write a program to compute the frequency of the words from the input. The output should output after sorting the key alphanumerically. \n",
        "\n",
        "Suppose the following input is supplied to the program:\n",
        "\n",
        "New to Python or choosing between Python 2 and Python 3? Read Python 2 or Python 3.\n",
        "\n",
        "Then, the output should be:\n",
        "\n",
        "2:2\n",
        "\n",
        "3.:1\n",
        "\n",
        "3?:1\n",
        "\n",
        "New:1\n",
        "\n",
        "Python:5\n",
        "\n",
        "Read:1\n",
        "\n",
        "and:1\n",
        "\n",
        "between:1\n",
        "\n",
        "choosing:1\n",
        "\n",
        "or:2\n",
        "\n",
        "to:1\n"
      ],
      "metadata": {
        "id": "VsZBFhKgMHn6"
      }
    },
    {
      "cell_type": "code",
      "source": [
        "import operator\n",
        "\n",
        "text_line = input(\"Type in: \")\n",
        "\n",
        "freq_dict = {}\n",
        "\n",
        "for i in text_line.split(' '):\n",
        "    if i.isalpha():\n",
        "        if i not in freq_dict:\n",
        "            freq_dict[i] = 1\n",
        "        elif i in freq_dict:\n",
        "            freq_dict[i] = freq_dict[i] + 1\n",
        "    else:\n",
        "        pass\n",
        "\n",
        "sorted_freq_dict = sorted(freq_dict.items(), key = operator.itemgetter(0))\n",
        "print(sorted_freq_dict)\n",
        "\n",
        "for i in sorted_freq_dict:\n",
        "    print(i[0], ':', i[1])"
      ],
      "metadata": {
        "id": "APlNVASsLn35",
        "colab": {
          "base_uri": "https://localhost:8080/"
        },
        "outputId": "47ac78b8-27b0-447d-f1f7-c804fcdc9736"
      },
      "execution_count": 3,
      "outputs": [
        {
          "output_type": "stream",
          "name": "stdout",
          "text": [
            "Type in: New to Python or choosing between Python 2 and Python 3? Read Python 2 or Python 3.\n",
            "[('New', 1), ('Python', 5), ('Read', 1), ('and', 1), ('between', 1), ('choosing', 1), ('or', 2), ('to', 1)]\n",
            "New : 1\n",
            "Python : 5\n",
            "Read : 1\n",
            "and : 1\n",
            "between : 1\n",
            "choosing : 1\n",
            "or : 2\n",
            "to : 1\n"
          ]
        }
      ]
    },
    {
      "cell_type": "markdown",
      "source": [
        "Question 3:\n",
        "\n",
        "\n",
        "\n",
        "Define a class Person and its two child classes: Male and Female. All classes have a method \"getGender\" which can print \"Male\" for Male class and \"Female\" for Female class\n"
      ],
      "metadata": {
        "id": "5hwO2UDMMuWN"
      }
    },
    {
      "cell_type": "markdown",
      "source": [],
      "metadata": {
        "id": "7qWguqB9Mpvz"
      }
    },
    {
      "cell_type": "code",
      "source": [
        "class Person(object):\n",
        "    def getGender( self ):\n",
        "        return \"Unknown\"\n",
        "\n",
        "class Male( Person ):\n",
        "    def getGender( self ):\n",
        "        return \"Male\"\n",
        "\n",
        "class Female( Person ):\n",
        "    def getGender( self ):\n",
        "        return \"Female\"\n",
        "\n",
        "aMale = Male()\n",
        "aFemale= Female()\n",
        "print(aMale.getGender())\n",
        "print(aFemale.getGender())"
      ],
      "metadata": {
        "colab": {
          "base_uri": "https://localhost:8080/"
        },
        "id": "WoQwfjKTMg6H",
        "outputId": "01676798-3f85-4b7b-f253-900dc25a434b"
      },
      "execution_count": 17,
      "outputs": [
        {
          "output_type": "stream",
          "name": "stdout",
          "text": [
            "Male\n",
            "Female\n"
          ]
        }
      ]
    },
    {
      "cell_type": "markdown",
      "source": [
        "Question 4:\n",
        "Please write a program to generate all sentences where subject is in [\"I\", \"You\"] and verb is in [\"Play\", \"Love\"] and the object is in [\"Hockey\",\"Football\"].\n"
      ],
      "metadata": {
        "id": "0QQMuAr3NKbb"
      }
    },
    {
      "cell_type": "code",
      "source": [
        "x = [\"I\", \"You\"]\n",
        "y = [\"Play\", \"Love\"]\n",
        "z = [\"Hockey\",\"Football\"]\n",
        "for i in x :\n",
        "  for j in y :\n",
        "    for k in z :\n",
        "      print(i, j, k+\".\")"
      ],
      "metadata": {
        "colab": {
          "base_uri": "https://localhost:8080/"
        },
        "id": "oZEaw-aLNMRU",
        "outputId": "3b9c43b6-b21e-4791-b1b8-db6f98809514"
      },
      "execution_count": 8,
      "outputs": [
        {
          "output_type": "stream",
          "name": "stdout",
          "text": [
            "I Play Hockey.\n",
            "I Play Football.\n",
            "I Love Hockey.\n",
            "I Love Football.\n",
            "You Play Hockey.\n",
            "You Play Football.\n",
            "You Love Hockey.\n",
            "You Love Football.\n"
          ]
        }
      ]
    },
    {
      "cell_type": "markdown",
      "source": [
        "Question 5:\n",
        "Please write a program to compress and decompress the string \"hello world!hello world!hello world!hello world!\".\n"
      ],
      "metadata": {
        "id": "Fe7cqKGlOEsp"
      }
    },
    {
      "cell_type": "code",
      "source": [
        "import zlib\n",
        "s = 'hello world!hello world!hello world!hello world!'\n",
        "# In Python 3 zlib.compress() accepts only DataType <bytes>\n",
        "y = bytes(s, 'utf-8')\n",
        "x = zlib.compress(y)\n",
        "print(x)\n",
        "print(zlib.decompress(x))"
      ],
      "metadata": {
        "colab": {
          "base_uri": "https://localhost:8080/"
        },
        "id": "LkDpI7B6OVcH",
        "outputId": "85ac97f3-ccc3-4fa3-ee79-ca8e0919f26e"
      },
      "execution_count": 12,
      "outputs": [
        {
          "output_type": "stream",
          "name": "stdout",
          "text": [
            "b'x\\x9c\\xcbH\\xcd\\xc9\\xc9W(\\xcf/\\xcaIQ\\xcc \\x82\\r\\x00\\xbd[\\x11\\xf5'\n",
            "b'hello world!hello world!hello world!hello world!'\n"
          ]
        }
      ]
    },
    {
      "cell_type": "markdown",
      "source": [
        "Question 6:\n",
        "Please write a binary search function which searches an item in a sorted list. The function should return the index of element to be searched in the list.\n"
      ],
      "metadata": {
        "id": "rhewLDU_Oumv"
      }
    },
    {
      "cell_type": "code",
      "source": [
        "def binary_search(lst, item):\n",
        "    low = 0\n",
        "    high = len(lst) - 1\n",
        "    \n",
        "    while low <= high:\n",
        "        mid = round((low + high) / 2)\n",
        "        \n",
        "        if lst[mid] == item:\n",
        "            return mid\n",
        "        elif lst[mid] > item:\n",
        "            high = mid - 1\n",
        "        else:\n",
        "            low = mid + 1\n",
        "    return None\n",
        "    \n",
        "lst = [1,3,5,7,9]\n",
        "print(binary_search(lst, 9))   "
      ],
      "metadata": {
        "colab": {
          "base_uri": "https://localhost:8080/"
        },
        "id": "X7qcva0bNpJ-",
        "outputId": "dfc29a4e-b5d9-46c1-d09b-628d8fb46767"
      },
      "execution_count": 15,
      "outputs": [
        {
          "output_type": "stream",
          "name": "stdout",
          "text": [
            "4\n"
          ]
        }
      ]
    },
    {
      "cell_type": "code",
      "source": [],
      "metadata": {
        "id": "SDMaY-13PCOT"
      },
      "execution_count": null,
      "outputs": []
    }
  ]
}