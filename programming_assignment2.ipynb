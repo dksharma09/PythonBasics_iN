{
  "nbformat": 4,
  "nbformat_minor": 0,
  "metadata": {
    "colab": {
      "provenance": []
    },
    "kernelspec": {
      "name": "python3",
      "display_name": "Python 3"
    },
    "language_info": {
      "name": "python"
    }
  },
  "cells": [
    {
      "cell_type": "markdown",
      "source": [
        "1. Write a Python program to convert kilometers to miles?"
      ],
      "metadata": {
        "id": "ng-UHbe0wwlj"
      }
    },
    {
      "cell_type": "code",
      "source": [
        "var_x = 1.609\n",
        "kms = float(input(\"Please, Enter the Kms : \"))\n",
        "miles = kms/var_x\n",
        "print(f'Miles = {miles}')"
      ],
      "metadata": {
        "colab": {
          "base_uri": "https://localhost:8080/"
        },
        "id": "0JZ7BVCIwzup",
        "outputId": "0ef8b54d-a622-477a-c831-3404c8598deb"
      },
      "execution_count": 1,
      "outputs": [
        {
          "output_type": "stream",
          "name": "stdout",
          "text": [
            "Please, Enter the Kms : 3\n",
            "Miles = 1.8645121193287757\n"
          ]
        }
      ]
    },
    {
      "cell_type": "markdown",
      "source": [
        "2. Write a Python program to convert Celsius to Fahrenheit?"
      ],
      "metadata": {
        "id": "e5HI8dvpxmv1"
      }
    },
    {
      "cell_type": "code",
      "source": [
        "var_x = 9/5\n",
        "celcius = float(input(\"Please, Enter the temperature in Celcius : \"))\n",
        "fahrenheit = (celcius*var_x) + 32\n",
        "print(f'fahrenheit = {fahrenheit}')"
      ],
      "metadata": {
        "colab": {
          "base_uri": "https://localhost:8080/"
        },
        "id": "fBTDogY2xqBe",
        "outputId": "ec6098f7-78af-4cf2-bb0c-dfc23c9d2d9a"
      },
      "execution_count": 3,
      "outputs": [
        {
          "output_type": "stream",
          "name": "stdout",
          "text": [
            "Please, Enter the temperature in Celcius : 12\n",
            "fahrenheit = 53.6\n"
          ]
        }
      ]
    },
    {
      "cell_type": "markdown",
      "source": [
        "3. Write a Python program to display calendar?"
      ],
      "metadata": {
        "id": "RKPOqTlMyfOG"
      }
    },
    {
      "cell_type": "code",
      "source": [
        "import calendar\n",
        "yyyy = int(input(\"Please, Enter the year : \"))\n",
        "mm = int(input(\"Please, Enter the month : \"))\n",
        "print(calendar.month(yyyy,mm))"
      ],
      "metadata": {
        "colab": {
          "base_uri": "https://localhost:8080/"
        },
        "id": "-8dRX9fSyk_y",
        "outputId": "db86b698-3026-4850-b9f8-4e02ac2ccc8d"
      },
      "execution_count": 5,
      "outputs": [
        {
          "output_type": "stream",
          "name": "stdout",
          "text": [
            "Please, Enter the year : 2014\n",
            "Please, Enter the month : 12\n",
            "   December 2014\n",
            "Mo Tu We Th Fr Sa Su\n",
            " 1  2  3  4  5  6  7\n",
            " 8  9 10 11 12 13 14\n",
            "15 16 17 18 19 20 21\n",
            "22 23 24 25 26 27 28\n",
            "29 30 31\n",
            "\n"
          ]
        }
      ]
    },
    {
      "cell_type": "markdown",
      "source": [
        "4. Write a Python program to solve quadratic equation?"
      ],
      "metadata": {
        "id": "HLQaaCyizSbE"
      }
    },
    {
      "cell_type": "code",
      "source": [
        "import cmath\n",
        "a,b,c = 1,5,6\n",
        "var1 = (b*b - 4*a*c)\n",
        "root1 = (-b + cmath.sqrt(var1))/2*a\n",
        "root2 = (-b - cmath.sqrt(var1))/2*a\n",
        "print(root1, root2)"
      ],
      "metadata": {
        "colab": {
          "base_uri": "https://localhost:8080/"
        },
        "id": "zh8YQGe5zVRp",
        "outputId": "dfdcbce2-0585-4593-9e9b-87d0a1681fa2"
      },
      "execution_count": 10,
      "outputs": [
        {
          "output_type": "stream",
          "name": "stdout",
          "text": [
            "(-2+0j) (-3+0j)\n"
          ]
        }
      ]
    },
    {
      "cell_type": "markdown",
      "source": [
        "5. Write a Python program to swap two variables without temp variable?"
      ],
      "metadata": {
        "id": "ZJ8k_rih1b2E"
      }
    },
    {
      "cell_type": "code",
      "source": [
        "a = 5\n",
        "b = 6\n",
        "a,b = b,a\n",
        "print(f'a = {a} & b = {b}')"
      ],
      "metadata": {
        "colab": {
          "base_uri": "https://localhost:8080/"
        },
        "id": "_ZaVUuro1fmz",
        "outputId": "4b54971d-120e-40ae-8b37-270064a9592d"
      },
      "execution_count": 11,
      "outputs": [
        {
          "output_type": "stream",
          "name": "stdout",
          "text": [
            "a = 6 & b = 5\n"
          ]
        }
      ]
    }
  ]
}