{
  "nbformat": 4,
  "nbformat_minor": 0,
  "metadata": {
    "colab": {
      "provenance": []
    },
    "kernelspec": {
      "name": "python3",
      "display_name": "Python 3"
    },
    "language_info": {
      "name": "python"
    }
  },
  "cells": [
    {
      "cell_type": "markdown",
      "source": [
        "1.\tWrite a Python program to find sum of elements in list?"
      ],
      "metadata": {
        "id": "6S-43Q6OVxBq"
      }
    },
    {
      "cell_type": "code",
      "execution_count": 4,
      "metadata": {
        "colab": {
          "base_uri": "https://localhost:8080/"
        },
        "id": "YBSMfVr9Vq65",
        "outputId": "21c40fde-5a02-4f34-c765-ca2cd020d06e"
      },
      "outputs": [
        {
          "output_type": "stream",
          "name": "stdout",
          "text": [
            "184\n"
          ]
        }
      ],
      "source": [
        "arr = [1,2,34,45,5,6,6,6,66,1,6,6]\n",
        "print(sum(arr))"
      ]
    },
    {
      "cell_type": "markdown",
      "source": [
        "2.\tWrite a Python program to  Multiply all numbers in the list?"
      ],
      "metadata": {
        "id": "lbNhpWDCWPJH"
      }
    },
    {
      "cell_type": "code",
      "source": [
        "import numpy as np\n",
        "arr = [1,2,34,45,5,6,6,6,66,1,6,6]\n",
        "print(np.prod(arr))"
      ],
      "metadata": {
        "colab": {
          "base_uri": "https://localhost:8080/"
        },
        "id": "59Htwcf6V5_3",
        "outputId": "bc8bd2a4-d6e0-45e5-b354-e6eecbc6ac0a"
      },
      "execution_count": 5,
      "outputs": [
        {
          "output_type": "stream",
          "name": "stdout",
          "text": [
            "7852204800\n"
          ]
        }
      ]
    },
    {
      "cell_type": "markdown",
      "source": [
        "3.\tWrite a Python program to find smallest number in a list?"
      ],
      "metadata": {
        "id": "dcl64hElWtIn"
      }
    },
    {
      "cell_type": "code",
      "source": [
        "arr = [1,2,34,45,5,6,6,6,66,1,6,6]\n",
        "print(min(arr))"
      ],
      "metadata": {
        "colab": {
          "base_uri": "https://localhost:8080/"
        },
        "id": "cMmH1Q5fWp2C",
        "outputId": "b4fa9639-fe2c-4133-8758-6350f46bcbc3"
      },
      "execution_count": 6,
      "outputs": [
        {
          "output_type": "stream",
          "name": "stdout",
          "text": [
            "1\n"
          ]
        }
      ]
    },
    {
      "cell_type": "markdown",
      "source": [
        "4.\tWrite a Python program to find largest number in a list?"
      ],
      "metadata": {
        "id": "hdU8A-UcW0oL"
      }
    },
    {
      "cell_type": "code",
      "source": [
        "arr = [1,2,34,45,5,6,6,6,66,1,6,6]\n",
        "print(max(arr))"
      ],
      "metadata": {
        "colab": {
          "base_uri": "https://localhost:8080/"
        },
        "id": "4e0EbqGzWyUn",
        "outputId": "3f170bba-d8b1-49bb-9a3c-1564eee5f9e6"
      },
      "execution_count": 7,
      "outputs": [
        {
          "output_type": "stream",
          "name": "stdout",
          "text": [
            "66\n"
          ]
        }
      ]
    },
    {
      "cell_type": "markdown",
      "source": [
        "5.\tWrite a Python program to find second largest number in a list?"
      ],
      "metadata": {
        "id": "gTtoFxY3W_5l"
      }
    },
    {
      "cell_type": "code",
      "source": [
        "arr = [1,2,34,45,5,6,6,6,66,1,6,6]\n",
        "arr.sort()\n",
        "for i in arr :\n",
        "  if i > arr[0] :\n",
        "    print(i)\n",
        "    break"
      ],
      "metadata": {
        "colab": {
          "base_uri": "https://localhost:8080/"
        },
        "id": "I00Sm2-ZW6MN",
        "outputId": "94649192-a4e8-4965-a611-84febd1c7241"
      },
      "execution_count": 10,
      "outputs": [
        {
          "output_type": "stream",
          "name": "stdout",
          "text": [
            "2\n"
          ]
        }
      ]
    },
    {
      "cell_type": "markdown",
      "source": [
        "6.\tWrite a Python program to find N largest elements from a list?"
      ],
      "metadata": {
        "id": "75nerZOYYBnD"
      }
    },
    {
      "cell_type": "code",
      "source": [
        "arr = [1,2,34,45,5,6,6,6,66,1,6,6]\n",
        "arr.sort(reverse=True)\n",
        "N=3\n",
        "x = []\n",
        "for i in arr :\n",
        "  if i not in x :\n",
        "    x.append(i)\n",
        "    if len(x) == N :\n",
        "      print(x)\n",
        "      break"
      ],
      "metadata": {
        "colab": {
          "base_uri": "https://localhost:8080/"
        },
        "id": "18i2jqqAXOTQ",
        "outputId": "89e0ec4d-86e9-4611-caec-342252182955"
      },
      "execution_count": 25,
      "outputs": [
        {
          "output_type": "stream",
          "name": "stdout",
          "text": [
            "[66, 45, 34]\n"
          ]
        }
      ]
    },
    {
      "cell_type": "markdown",
      "source": [
        "7.\tWrite a Python program to print even numbers in a list?"
      ],
      "metadata": {
        "id": "hsYyTNFBbxsb"
      }
    },
    {
      "cell_type": "code",
      "source": [
        "arr = [1,2,34,45,5,6,6,6,66,1,6,6]\n",
        "print([i for i in arr if i%2==0])"
      ],
      "metadata": {
        "colab": {
          "base_uri": "https://localhost:8080/"
        },
        "id": "VlHgePZNb45B",
        "outputId": "6045cce6-11d0-49ba-9e52-7c9be578f3cd"
      },
      "execution_count": 29,
      "outputs": [
        {
          "output_type": "stream",
          "name": "stdout",
          "text": [
            "[2, 34, 6, 6, 6, 66, 6, 6]\n"
          ]
        }
      ]
    },
    {
      "cell_type": "markdown",
      "source": [
        "8.\tWrite a Python program to print odd numbers in a List?"
      ],
      "metadata": {
        "id": "faOc2iDFc2BU"
      }
    },
    {
      "cell_type": "code",
      "source": [
        "arr = [1,2,34,45,5,6,6,6,66,1,6,6]\n",
        "print([i for i in arr if i%2!=0])"
      ],
      "metadata": {
        "colab": {
          "base_uri": "https://localhost:8080/"
        },
        "id": "uMLVSmm2ZjW_",
        "outputId": "3189212b-5e80-4f83-a7ac-2347a092b11d"
      },
      "execution_count": 30,
      "outputs": [
        {
          "output_type": "stream",
          "name": "stdout",
          "text": [
            "[1, 45, 5, 1]\n"
          ]
        }
      ]
    },
    {
      "cell_type": "markdown",
      "source": [
        "9.\tWrite a Python program to Remove empty List from List?"
      ],
      "metadata": {
        "id": "m5rkh4E8c_ml"
      }
    },
    {
      "cell_type": "code",
      "source": [
        "arr = [1,2,[],34,45,5,6,[],6,6,66,1,6,6]\n",
        "x = [i for i in arr if i !=[]]\n",
        "print(x)"
      ],
      "metadata": {
        "colab": {
          "base_uri": "https://localhost:8080/"
        },
        "id": "K0JH_Ycnc6mc",
        "outputId": "7b32e1e4-cf29-4b49-cd2f-99f2a466c7e7"
      },
      "execution_count": 46,
      "outputs": [
        {
          "output_type": "stream",
          "name": "stdout",
          "text": [
            "[1, 2, 34, 45, 5, 6, 6, 6, 66, 1, 6, 6]\n"
          ]
        }
      ]
    },
    {
      "cell_type": "markdown",
      "source": [
        "10.\tWrite a Python program to Cloning or Copying a list?"
      ],
      "metadata": {
        "id": "oLm8WCM1glYW"
      }
    },
    {
      "cell_type": "code",
      "source": [
        "def Cloning(li1):\n",
        "    li_copy = li1[:]\n",
        "    return li_copy\n",
        "li1 = [4, 8, 2, 10, 15, 18]\n",
        "li2 = Cloning(li1)\n",
        "print(\"Original List:\", li1)\n",
        "print(\"After Cloning:\", li2)"
      ],
      "metadata": {
        "colab": {
          "base_uri": "https://localhost:8080/"
        },
        "id": "0nekGEgqdx_H",
        "outputId": "529091fc-cdeb-4c70-a69c-f34d994ca1b3"
      },
      "execution_count": 49,
      "outputs": [
        {
          "output_type": "stream",
          "name": "stdout",
          "text": [
            "Original List: [4, 8, 2, 10, 15, 18]\n",
            "After Cloning: [4, 8, 2, 10, 15, 18]\n"
          ]
        }
      ]
    },
    {
      "cell_type": "markdown",
      "source": [
        "11.\tWrite a Python program to Count occurrences of an element in a list?"
      ],
      "metadata": {
        "id": "oyaoaUe4hcyN"
      }
    },
    {
      "cell_type": "code",
      "source": [
        "arr = [1,2,34,45,5,6,6,6,66,1,6,6]\n",
        "arr.count(6)"
      ],
      "metadata": {
        "colab": {
          "base_uri": "https://localhost:8080/"
        },
        "id": "egV48-LShEuR",
        "outputId": "70bf745f-10e4-4312-bca4-ec9e8b213373"
      },
      "execution_count": 51,
      "outputs": [
        {
          "output_type": "execute_result",
          "data": {
            "text/plain": [
              "5"
            ]
          },
          "metadata": {},
          "execution_count": 51
        }
      ]
    },
    {
      "cell_type": "code",
      "source": [],
      "metadata": {
        "id": "9aWOU2HmhlYp"
      },
      "execution_count": null,
      "outputs": []
    }
  ]
}